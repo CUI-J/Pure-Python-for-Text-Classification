{
 "cells": [
  {
   "cell_type": "markdown",
   "metadata": {},
   "source": [
    "#  Assignment 2: Text Classification with a Feedforward Network\n",
    "\n",
    "\n",
    "\n",
    "The goal of this assignment is to develop a Feedforward network for text classification. \n",
    "\n",
    "\n",
    "### Data \n",
    "\n",
    "The data you will use for Task 2 is a subset of the [AG News Corpus](http://groups.di.unipi.it/~gulli/AG_corpus_of_news_articles.html) and you can find it in the `./data_topic` folder in CSV format:\n",
    "\n",
    "- `data_topic/train.csv`: contains 2,400 news articles, 800 for each class to be used for training.\n",
    "- `data_topic/dev.csv`: contains 150 news articles, 50 for each class to be used for hyperparameter selection and monitoring the training process.\n",
    "- `data_topic/test.csv`: contains 900 news articles, 300 for each class to be used for testing.\n",
    "\n",
    "### Pre-trained Embeddings\n",
    "\n",
    "You can download pre-trained GloVe embeddings trained on Common Crawl (840B tokens, 2.2M vocab, cased, 300d vectors, 2.03 GB download) from [here](http://nlp.stanford.edu/data/glove.840B.300d.zip). No need to unzip, the file is large.\n",
    "\n",
    "### Save Memory\n",
    "\n",
    "To save RAM, when you finish each experiment you can delete the weights of your network using `del W` followed by Python's garbage collector `gc.collect()`\n"
   ]
  },
  {
   "cell_type": "code",
   "execution_count": 1,
   "metadata": {
    "ExecuteTime": {
     "end_time": "2020-04-02T15:00:18.625532Z",
     "start_time": "2020-04-02T15:00:17.377733Z"
    }
   },
   "outputs": [],
   "source": [
    "import pandas as pd\n",
    "import numpy as np\n",
    "from collections import Counter\n",
    "import re\n",
    "import matplotlib.pyplot as plt\n",
    "from sklearn.metrics import accuracy_score, precision_score, recall_score, f1_score\n",
    "import random\n",
    "from time import localtime, strftime\n",
    "from scipy.stats import spearmanr,pearsonr\n",
    "import zipfile\n",
    "import gc\n",
    "from pandas import *\n",
    "\n",
    "# fixing random seed for reproducibility\n",
    "random.seed(123)\n",
    "np.random.seed(123)\n"
   ]
  },
  {
   "cell_type": "markdown",
   "metadata": {},
   "source": [
    "## Transform Raw texts into training and development data\n",
    "\n",
    "First, you need to load the training, development and test sets from their corresponding CSV files (tip: you can use Pandas dataframes)."
   ]
  },
  {
   "cell_type": "code",
   "execution_count": 2,
   "metadata": {
    "ExecuteTime": {
     "end_time": "2020-04-02T14:26:39.748484Z",
     "start_time": "2020-04-02T14:26:39.727404Z"
    }
   },
   "outputs": [],
   "source": [
    "# load the training, development and test sets\n",
    "data_tr = pd.read_csv('data_topic/train.csv',header=None, names=['label','text'])\n",
    "data_dev = pd.read_csv('data_topic/dev.csv',header=None, names=['label','text'])\n",
    "data_test = pd.read_csv('data_topic/test.csv',header=None, names=['label','text'])"
   ]
  },
  {
   "cell_type": "code",
   "execution_count": 3,
   "metadata": {
    "ExecuteTime": {
     "end_time": "2020-04-02T14:26:39.753874Z",
     "start_time": "2020-04-02T14:26:39.749647Z"
    }
   },
   "outputs": [],
   "source": [
    "# put the raw texts into Python lists\n",
    "train_text = [x.lower() for x in data_tr['text'].tolist()] \n",
    "dev_text = [x.lower() for x in data_dev['text'].tolist()] \n",
    "test_text = [x.lower() for x in data_test['text'].tolist()]\n",
    "\n",
    "# put their corresponding labels into NumPy arrays\n",
    "train_label = np.array(data_tr['label'])\n",
    "dev_label = np.array(data_dev['label'])\n",
    "test_label = np.array(data_test['label'])"
   ]
  },
  {
   "cell_type": "markdown",
   "metadata": {},
   "source": [
    "# Create input representations\n",
    "\n",
    "\n",
    "To train your Feedforward network, you first need to obtain input representations given a vocabulary. One-hot encoding requires large memory capacity. Therefore, we will instead represent documents as lists of vocabulary indices (each word corresponds to a vocabulary index). \n",
    "\n",
    "\n",
    "## Text Pre-Processing Pipeline\n",
    "\n",
    "To obtain a vocabulary of words. You should: \n",
    "- tokenise all texts into a list of unigrams (tip: you can re-use the functions from Assignment 1) \n",
    "- remove stop words (using the one provided or one of your preference) \n",
    "- remove unigrams appearing in less than K documents\n",
    "- use the remaining to create a vocabulary of the top-N most frequent unigrams in the entire corpus.\n"
   ]
  },
  {
   "cell_type": "code",
   "execution_count": 4,
   "metadata": {
    "ExecuteTime": {
     "end_time": "2020-04-02T14:26:40.851926Z",
     "start_time": "2020-04-02T14:26:40.847500Z"
    }
   },
   "outputs": [],
   "source": [
    "stop_words = ['a','in','on','at','and','or', \n",
    "              'to', 'the', 'of', 'an', 'by', \n",
    "              'as', 'is', 'was', 'were', 'been', 'be', \n",
    "              'are','for', 'this', 'that', 'these', 'those', 'you', 'i', 'if',\n",
    "             'it', 'he', 'she', 'we', 'they', 'will', 'have', 'has',\n",
    "              'do', 'did', 'can', 'could', 'who', 'which', 'what',\n",
    "              'but', 'not', 'there', 'no', 'does', 'not', 'so', 've', 'their',\n",
    "             'his', 'her', 'they', 'them', 'from', 'with', 'its']\n"
   ]
  },
  {
   "cell_type": "markdown",
   "metadata": {},
   "source": [
    "### Unigram extraction from a document\n",
    "\n",
    "You first need to implement the `extract_ngrams` function. It takes as input:\n",
    "- `x_raw`: a string corresponding to the raw text of a document\n",
    "- `ngram_range`: a tuple of two integers denoting the type of ngrams you want to extract, e.g. (1,2) denotes extracting unigrams and bigrams.\n",
    "- `token_pattern`: a string to be used within a regular expression to extract all tokens. Note that data is already tokenised so you could opt for a simple white space tokenisation.\n",
    "- `stop_words`: a list of stop words\n",
    "- `vocab`: a given vocabulary. It should be used to extract specific features.\n",
    "\n",
    "and returns:\n",
    "\n",
    "- `x` : a list of all extracted features.(Remove the same ngram)\n",
    "- `text_ngrams` : a list of all extracted features.(split for several list by different rows of `x_raw`（Two-dimensional）)\n"
   ]
  },
  {
   "cell_type": "code",
   "execution_count": 5,
   "metadata": {
    "ExecuteTime": {
     "end_time": "2020-04-02T14:26:41.505459Z",
     "start_time": "2020-04-02T14:26:41.498388Z"
    }
   },
   "outputs": [],
   "source": [
    "def extract_ngrams(x_raw, ngram_range=(1,3), token_pattern=r'\\b[A-Za-z][A-Za-z]+\\b', stop_words=[], vocab=set()):    \n",
    "    #create list x\n",
    "    x = []\n",
    "    #create list text_ngrams(store all extracted ngrams of documents)\n",
    "    text_ngrams = []\n",
    "    #extract texts according to different documents\n",
    "    for raw in x_raw:\n",
    "        #create list n_g_list(store a document of the extracted ngrams)  \n",
    "        n_g_list = []\n",
    "        # use stop_words to delete these words in document\n",
    "        train_token = re.findall(token_pattern,raw)\n",
    "        train_stop = []\n",
    "        for raw_token in train_token:\n",
    "            if raw_token not in stop_words:\n",
    "                train_stop.append(raw_token)\n",
    "        #use n_g_list list to save the extracted ngrams of a document.\n",
    "        for i in range(min(ngram_range),max(ngram_range)+1):\n",
    "            length = len(train_stop)-i+1\n",
    "            for j in range(length):\n",
    "                if i ==1:\n",
    "                    unigram = train_stop[j]\n",
    "                    x.append(unigram)\n",
    "                    n_g_list.append(unigram)\n",
    "                else:\n",
    "                    ngrams = tuple(train_stop[j:j+i])\n",
    "                    x.append(ngrams)\n",
    "                    n_g_list.append(ngrams)\n",
    "        text_ngrams.append(n_g_list)\n",
    "    x = set(x)\n",
    "    \n",
    "    return x, text_ngrams\n"
   ]
  },
  {
   "cell_type": "markdown",
   "metadata": {},
   "source": [
    "### Create a vocabulary of n-grams\n",
    "\n",
    "Then the `get_vocab` function will be used to (1) create a vocabulary of ngrams; (2) count the document frequencies of ngrams; (3) their raw frequency. It takes as input:\n",
    "- `X_raw`: a list of strings each corresponding to the raw text of a document\n",
    "- `ngram_range`: a tuple of two integers denoting the type of ngrams you want to extract, e.g. (1,2) denotes extracting unigrams and bigrams.\n",
    "- `token_pattern`: a string to be used within a regular expression to extract all tokens. Note that data is already tokenised so you could opt for a simple white space tokenisation.\n",
    "- `stop_words`: a list of stop words\n",
    "- `min_df`: keep ngrams with a minimum document frequency.\n",
    "- `keep_topN`: keep top-N more frequent ngrams.\n",
    "\n",
    "and returns:\n",
    "\n",
    "- `vocab`: a set of the n-grams that will be used as features.\n",
    "- `df`: a Counter (or dict) that contains ngrams as keys and their corresponding document frequency as values.\n",
    "- `ngram_counts`: counts of each ngram in vocab\n"
   ]
  },
  {
   "cell_type": "code",
   "execution_count": 6,
   "metadata": {
    "ExecuteTime": {
     "end_time": "2020-04-02T14:26:42.563876Z",
     "start_time": "2020-04-02T14:26:42.557967Z"
    }
   },
   "outputs": [],
   "source": [
    "def get_vocab(X_raw, ngram_range=(1,3), token_pattern=r'\\b[A-Za-z][A-Za-z]+\\b', min_df=0, keep_topN=5000, stop_words=[]):\n",
    "    \n",
    "    x, ngrams_list = extract_ngrams(x_raw=X_raw, ngram_range = ngram_range, stop_words=stop_words)\n",
    "    \n",
    "    df = {}    \n",
    "    # use dict(df) to save all ngrams as keys and their corresponding document frequency as values               \n",
    "    for grams in ngrams_list:\n",
    "        grams_uni = set(grams)\n",
    "        for n_gram in grams_uni:\n",
    "            if n_gram not in df.keys():\n",
    "                df[n_gram]=1\n",
    "            else:\n",
    "                df[n_gram]+=1\n",
    "\n",
    "    #order by the dict.values              \n",
    "    df = dict(sorted(df.items(), key=lambda x:x[1], reverse=True))\n",
    "    #keep top-N more frequent ngrams\n",
    "    df = {k: df[k] for k in list(df.keys())[:keep_topN]}\n",
    " \n",
    "    vocab= [ i for i in df.keys()]\n",
    "    ngram_counts= [ i for i in df.values()]\n",
    "    \n",
    "    return vocab, df, ngram_counts    \n",
    "    \n",
    "    return vocab, df, ngram_counts"
   ]
  },
  {
   "cell_type": "markdown",
   "metadata": {},
   "source": [
    "Now you should use `get_vocab` to create your vocabulary and get document and raw frequencies of unigrams:"
   ]
  },
  {
   "cell_type": "code",
   "execution_count": 7,
   "metadata": {
    "ExecuteTime": {
     "end_time": "2020-04-02T14:26:43.577997Z",
     "start_time": "2020-04-02T14:26:43.478950Z"
    }
   },
   "outputs": [],
   "source": [
    "#according to train set to got my vocabulary as feature\n",
    "vocab, tr_df, tr_ngram_counts = get_vocab(X_raw=train_text, ngram_range=(1,1), keep_topN=1000, stop_words=stop_words)"
   ]
  },
  {
   "cell_type": "markdown",
   "metadata": {},
   "source": [
    "Then, you need to create vocabulary id -> word and id -> word dictionaries for reference:"
   ]
  },
  {
   "cell_type": "code",
   "execution_count": 8,
   "metadata": {
    "ExecuteTime": {
     "end_time": "2020-04-02T14:26:44.069661Z",
     "start_time": "2020-04-02T14:26:44.065058Z"
    }
   },
   "outputs": [],
   "source": [
    "# create word dictionaries \n",
    "vocab_dict = {}\n",
    "for i in range(len(vocab)):\n",
    "    vocab_dict[vocab[i]] = i"
   ]
  },
  {
   "cell_type": "markdown",
   "metadata": {},
   "source": [
    "### Convert the list of unigrams  into a list of vocabulary indices"
   ]
  },
  {
   "cell_type": "markdown",
   "metadata": {},
   "source": [
    "Storing actual one-hot vectors into memory for all words in the entire data set is prohibitive. Instead, we will store word indices in the vocabulary and look-up the weight matrix. This is equivalent of doing a dot product between an one-hot vector and the weight matrix. \n",
    "\n",
    "First, represent documents in train, dev and test sets as lists of words in the vocabulary:"
   ]
  },
  {
   "cell_type": "code",
   "execution_count": 9,
   "metadata": {
    "ExecuteTime": {
     "end_time": "2020-04-02T14:26:45.047887Z",
     "start_time": "2020-04-02T14:26:44.920631Z"
    }
   },
   "outputs": [],
   "source": [
    "#extract unigrams for each text in the training, development and test sets:\n",
    "tr_x, X_uni_tr = extract_ngrams(x_raw = train_text, ngram_range=(1,1), stop_words=stop_words)\n",
    "dev_x, X_uni_dev = extract_ngrams(x_raw = dev_text, ngram_range=(1,1), stop_words=stop_words)\n",
    "test_x, X_uni_test = extract_ngrams(x_raw = test_text, ngram_range=(1,1), stop_words=stop_words)"
   ]
  },
  {
   "cell_type": "code",
   "execution_count": 10,
   "metadata": {},
   "outputs": [
    {
     "data": {
      "text/plain": [
       "['reuters',\n",
       " 'venezuelans',\n",
       " 'turned',\n",
       " 'out',\n",
       " 'early',\n",
       " 'large',\n",
       " 'numbers',\n",
       " 'sunday',\n",
       " 'vote',\n",
       " 'historic',\n",
       " 'referendum',\n",
       " 'either',\n",
       " 'remove',\n",
       " 'left',\n",
       " 'wing',\n",
       " 'president',\n",
       " 'hugo',\n",
       " 'chavez',\n",
       " 'office',\n",
       " 'give',\n",
       " 'him',\n",
       " 'new',\n",
       " 'mandate',\n",
       " 'govern',\n",
       " 'next',\n",
       " 'two',\n",
       " 'years']"
      ]
     },
     "execution_count": 10,
     "metadata": {},
     "output_type": "execute_result"
    }
   ],
   "source": [
    "X_uni_tr[0]"
   ]
  },
  {
   "cell_type": "markdown",
   "metadata": {},
   "source": [
    "Then convert them into lists of indices in the vocabulary:"
   ]
  },
  {
   "cell_type": "code",
   "execution_count": 11,
   "metadata": {},
   "outputs": [],
   "source": [
    "def convert_indices(X_uni_tr,vocab_dict):\n",
    "    \n",
    "    X_tr = []\n",
    "    for i in range(len(X_uni_tr)):\n",
    "        X_tr_raw = []\n",
    "        for word in X_uni_tr[i]:\n",
    "            if word in vocab_dict:\n",
    "                vocab_id = vocab_dict[word]\n",
    "                X_tr_raw.append(vocab_id)\n",
    "        X_tr.append(X_tr_raw)\n",
    "    \n",
    "    return X_tr  \n",
    "    "
   ]
  },
  {
   "cell_type": "code",
   "execution_count": 12,
   "metadata": {
    "ExecuteTime": {
     "end_time": "2020-04-02T14:26:45.752658Z",
     "start_time": "2020-04-02T14:26:45.730409Z"
    }
   },
   "outputs": [],
   "source": [
    "X_tr = convert_indices(X_uni_tr,vocab_dict)\n",
    "X_dev = convert_indices(X_uni_dev,vocab_dict)\n",
    "X_test = convert_indices(X_uni_test,vocab_dict)"
   ]
  },
  {
   "cell_type": "code",
   "execution_count": 13,
   "metadata": {},
   "outputs": [
    {
     "data": {
      "text/plain": [
       "[0,\n",
       " 759,\n",
       " 28,\n",
       " 208,\n",
       " 29,\n",
       " 308,\n",
       " 816,\n",
       " 262,\n",
       " 108,\n",
       " 758,\n",
       " 35,\n",
       " 173,\n",
       " 175,\n",
       " 493,\n",
       " 701,\n",
       " 97,\n",
       " 4,\n",
       " 172,\n",
       " 10,\n",
       " 63]"
      ]
     },
     "execution_count": 13,
     "metadata": {},
     "output_type": "execute_result"
    }
   ],
   "source": [
    "X_tr[0]"
   ]
  },
  {
   "cell_type": "markdown",
   "metadata": {},
   "source": [
    "#### Delete the Null value data after converting the list of unigrams into a list of vocabulary indices"
   ]
  },
  {
   "cell_type": "code",
   "execution_count": 14,
   "metadata": {},
   "outputs": [],
   "source": [
    "def del_Nuldata(X,Y):\n",
    "    \n",
    "    X_new = []\n",
    "    Y_new = []\n",
    "\n",
    "    for i in range(len(X)):\n",
    "        a = len(X[i])\n",
    "        if a != 0:   \n",
    "            X_new.append(X[i])\n",
    "            Y_new.append(Y[i])\n",
    "            \n",
    "    return X_new,Y_new\n",
    "    "
   ]
  },
  {
   "cell_type": "code",
   "execution_count": 15,
   "metadata": {},
   "outputs": [],
   "source": [
    "X_tr, train_label = del_Nuldata(X_tr,train_label)\n",
    "X_dev, dev_label = del_Nuldata(X_dev,dev_label)\n",
    "X_test, test_label = del_Nuldata(X_test,test_label)"
   ]
  },
  {
   "cell_type": "markdown",
   "metadata": {},
   "source": [
    "# Network Architecture\n",
    "\n",
    "Your network should pass each word index into its corresponding embedding by looking-up on the embedding matrix and then compute the first hidden layer $\\mathbf{h}_1$:\n",
    "\n",
    "$$\\mathbf{h}_1 = \\frac{1}{|x|}\\sum_i W^e_i, i \\in x$$\n",
    "\n",
    "where $|x|$ is the number of words in the document and $W^e$ is an embedding matrix $|V|\\times d$, $|V|$ is the size of the vocabulary and $d$ the embedding size.\n",
    "\n",
    "Then $\\mathbf{h}_1$ should be passed through a ReLU activation function:\n",
    "\n",
    "$$\\mathbf{a}_1 = relu(\\mathbf{h}_1)$$\n",
    "\n",
    "Finally the hidden layer is passed to the output layer:\n",
    "\n",
    "\n",
    "$$\\mathbf{y} = \\text{softmax}(\\mathbf{a}_1W^T) $$ \n",
    "where $W$ is a matrix $d \\times |{\\cal Y}|$, $|{\\cal Y}|$ is the number of classes.\n",
    "\n",
    "During training, $\\mathbf{a}_1$ should be multiplied with a dropout mask vector (elementwise) for regularisation before it is passed to the output layer.\n",
    "\n",
    "You can extend to a deeper architecture by passing a hidden layer to another one:\n",
    "\n",
    "$$\\mathbf{h_i} = \\mathbf{a}_{i-1}W_i^T $$\n",
    "\n",
    "$$\\mathbf{a_i} = relu(\\mathbf{h_i}) $$\n",
    "\n",
    "\n",
    "\n",
    "# Network Training\n",
    "\n",
    "First we need to define the parameters of our network by initiliasing the weight matrices. For that purpose, you should implement the `network_weights` function that takes as input:\n",
    "\n",
    "- `vocab_size`: the size of the vocabulary\n",
    "- `embedding_dim`: the size of the word embeddings\n",
    "- `hidden_dim`: a list of the sizes of any subsequent hidden layers (for the Bonus). Empty if there are no hidden layers between the average embedding and the output layer \n",
    "- `num_clusses`: the number of the classes for the output layer\n",
    "\n",
    "and returns:\n",
    "\n",
    "- `W`: a dictionary mapping from layer index (e.g. 0 for the embedding matrix) to the corresponding weight matrix initialised with small random numbers (hint: use numpy.random.uniform with from -0.1 to 0.1)\n",
    "\n",
    "See the examples below for expected outputs. Make sure that the dimensionality of each weight matrix is compatible with the previous and next weight matrix, otherwise you won't be able to perform forward and backward passes. Consider also using np.float32 precision to save memory."
   ]
  },
  {
   "cell_type": "code",
   "execution_count": 16,
   "metadata": {
    "ExecuteTime": {
     "end_time": "2020-04-02T15:09:10.086665Z",
     "start_time": "2020-04-02T15:09:10.083429Z"
    }
   },
   "outputs": [],
   "source": [
    "def network_weights(vocab_size=1000, embedding_dim=300, \n",
    "                    hidden_dim=[], num_classes=3, init_val = 0.5):\n",
    "    \n",
    "    dim_list = []\n",
    "    dim_list.append(vocab_size)\n",
    "    dim_list.append(embedding_dim)\n",
    "    dim_list.extend(hidden_dim)\n",
    "    dim_list.append(num_classes)\n",
    "    \n",
    "    W={}\n",
    "    for i in range(len(dim_list)-1):\n",
    "        \n",
    "        W[i] = np.random.uniform(-init_val,init_val,(dim_list[i],dim_list[i+1])).astype('float32')\n",
    "\n",
    "    return W\n",
    "    "
   ]
  },
  {
   "cell_type": "code",
   "execution_count": 17,
   "metadata": {
    "ExecuteTime": {
     "end_time": "2020-04-02T14:26:48.143236Z",
     "start_time": "2020-04-02T14:26:48.139381Z"
    }
   },
   "outputs": [
    {
     "name": "stdout",
     "output_type": "stream",
     "text": [
      "W_emb: (5, 10)\n",
      "W_out: (10, 2)\n"
     ]
    }
   ],
   "source": [
    "W = network_weights(vocab_size=5,embedding_dim=10,hidden_dim=[], num_classes=2)\n",
    "\n",
    "print('W_emb:', W[0].shape)\n",
    "print('W_out:', W[1].shape)"
   ]
  },
  {
   "cell_type": "code",
   "execution_count": 18,
   "metadata": {
    "ExecuteTime": {
     "end_time": "2020-04-02T14:26:48.636732Z",
     "start_time": "2020-04-02T14:26:48.634122Z"
    }
   },
   "outputs": [],
   "source": [
    "W = network_weights(vocab_size=3,embedding_dim=4,hidden_dim=[2], num_classes=2)"
   ]
  },
  {
   "cell_type": "code",
   "execution_count": 19,
   "metadata": {
    "ExecuteTime": {
     "end_time": "2020-04-02T14:26:49.086112Z",
     "start_time": "2020-04-02T14:26:49.082225Z"
    }
   },
   "outputs": [
    {
     "name": "stdout",
     "output_type": "stream",
     "text": [
      "W_emb: (3, 4)\n",
      "W_h1: (4, 2)\n",
      "W_out: (2, 2)\n"
     ]
    }
   ],
   "source": [
    "print('W_emb:', W[0].shape)\n",
    "print('W_h1:', W[1].shape)\n",
    "print('W_out:', W[2].shape)"
   ]
  },
  {
   "cell_type": "markdown",
   "metadata": {
    "ExecuteTime": {
     "end_time": "2020-04-01T10:31:57.970152Z",
     "start_time": "2020-04-01T10:31:57.966123Z"
    }
   },
   "source": [
    "Then you need to develop a `softmax` function (same as in Assignment 1) to be used in the output layer. It takes as input:\n",
    "\n",
    "- `z`: array of real numbers \n",
    "\n",
    "and returns:\n",
    "\n",
    "- `sig`: the softmax of `z`"
   ]
  },
  {
   "cell_type": "code",
   "execution_count": 20,
   "metadata": {},
   "outputs": [],
   "source": [
    "def softmax(z):\n",
    "    x_exp = np.exp(z)\n",
    "    # If it is a one-dimensional array, then axis = 0, otherwise, axis = 1.\n",
    "    if len(z.shape) >1:\n",
    "        x_sum = np.sum(x_exp, axis = 1, keepdims = True)\n",
    "    else:\n",
    "        x_sum = np.sum(x_exp, axis = 0)\n",
    "    sig = x_exp / x_sum    \n",
    "    return sig"
   ]
  },
  {
   "cell_type": "markdown",
   "metadata": {},
   "source": [
    "Now you need to implement the categorical cross entropy loss by slightly modifying the function from Assignment 1 to depend only on the true label `y` and the class probabilities vector `y_preds`:"
   ]
  },
  {
   "cell_type": "code",
   "execution_count": 21,
   "metadata": {
    "ExecuteTime": {
     "end_time": "2020-04-02T14:26:51.360838Z",
     "start_time": "2020-04-02T14:26:51.356935Z"
    }
   },
   "outputs": [],
   "source": [
    "def categorical_loss(y, y_preds):\n",
    "    \n",
    "    l = -np.log(y_preds[y])\n",
    "    \n",
    "    return l"
   ]
  },
  {
   "cell_type": "code",
   "execution_count": 22,
   "metadata": {
    "ExecuteTime": {
     "end_time": "2020-04-02T14:26:51.762676Z",
     "start_time": "2020-04-02T14:26:51.758210Z"
    }
   },
   "outputs": [
    {
     "name": "stdout",
     "output_type": "stream",
     "text": [
      "y_preds:  [0.01217919 0.27035308 0.24462558 0.02710529 0.44573687]\n",
      "loss: 1.40802648485675\n"
     ]
    }
   ],
   "source": [
    "# example for 5 classes\n",
    "\n",
    "y = 2 #true label\n",
    "y_preds = softmax(np.array([[-2.1,1.,0.9,-1.3,1.5]]))[0]\n",
    "\n",
    "print('y_preds: ',y_preds)\n",
    "print('loss:', categorical_loss(y, y_preds))"
   ]
  },
  {
   "cell_type": "markdown",
   "metadata": {
    "ExecuteTime": {
     "end_time": "2020-03-31T15:02:56.149535Z",
     "start_time": "2020-03-31T15:02:56.145738Z"
    }
   },
   "source": [
    "Then, implement the `relu` function to introduce non-linearity after each hidden layer of your network (during the forward pass): \n",
    "\n",
    "$$relu(z_i)= max(z_i,0)$$\n",
    "\n",
    "and the `relu_derivative` function to compute its derivative (used in the backward pass):\n",
    "\n",
    "\\begin{equation}\n",
    "  \\text{relu_derivative}(z_i)=\\begin{cases}\n",
    "    0, & \\text{if $z_i<=0$}.\\\\\n",
    "    1, & \\text{otherwise}.\n",
    "  \\end{cases}\n",
    "\\end{equation}\n",
    "\n",
    "Note that both functions take as input a vector $z$ \n",
    "\n",
    "Hint use .copy() to avoid in place changes in array z"
   ]
  },
  {
   "cell_type": "code",
   "execution_count": 23,
   "metadata": {
    "ExecuteTime": {
     "end_time": "2020-04-02T14:26:52.665236Z",
     "start_time": "2020-04-02T14:26:52.661519Z"
    }
   },
   "outputs": [],
   "source": [
    "def relu(z):\n",
    "    \n",
    "    a = np.maximum(z, 0)\n",
    "    \n",
    "    return a\n",
    "    \n",
    "def relu_derivative(z):\n",
    "    \n",
    "    z = np.array(z)\n",
    "    z[z <= 0] = 0\n",
    "    z[z > 0] = 1\n",
    "    dz = z\n",
    "    \n",
    "    return dz"
   ]
  },
  {
   "cell_type": "markdown",
   "metadata": {},
   "source": [
    "During training you should also apply a dropout mask element-wise after the activation function (i.e. vector of ones with a random percentage set to zero). The `dropout_mask` function takes as input:\n",
    "\n",
    "- `size`: the size of the vector that we want to apply dropout\n",
    "- `dropout_rate`: the percentage of elements that will be randomly set to zeros\n",
    "\n",
    "and returns:\n",
    "\n",
    "- `dropout_vec`: a vector with binary values (0 or 1)"
   ]
  },
  {
   "cell_type": "code",
   "execution_count": 24,
   "metadata": {
    "ExecuteTime": {
     "end_time": "2020-04-02T14:26:53.429192Z",
     "start_time": "2020-04-02T14:26:53.425301Z"
    }
   },
   "outputs": [],
   "source": [
    "def dropout_mask(size, dropout_rate):\n",
    "    \n",
    "    vec = np.ones(size)\n",
    "    num_zero = int(size*dropout_rate)\n",
    "    vec[:num_zero] = 0\n",
    "    np.random.shuffle(vec)\n",
    "    dropout_vec = vec\n",
    "    \n",
    "    return dropout_vec\n",
    "    "
   ]
  },
  {
   "cell_type": "code",
   "execution_count": 25,
   "metadata": {
    "ExecuteTime": {
     "end_time": "2020-04-02T14:26:53.853632Z",
     "start_time": "2020-04-02T14:26:53.849944Z"
    }
   },
   "outputs": [
    {
     "name": "stdout",
     "output_type": "stream",
     "text": [
      "[1. 1. 1. 1. 0. 1. 0. 1. 1. 1.]\n",
      "[1. 1. 1. 1. 1. 0. 1. 0. 1. 1.]\n"
     ]
    }
   ],
   "source": [
    "print(dropout_mask(10, 0.2))\n",
    "print(dropout_mask(10, 0.2))"
   ]
  },
  {
   "cell_type": "markdown",
   "metadata": {},
   "source": [
    "Now you need to implement the `forward_pass` function that passes the input x through the network up to the output layer for computing the probability for each class using the weight matrices in `W`. The ReLU activation function should be applied on each hidden layer. \n",
    "\n",
    "- `x`: a list of vocabulary indices each corresponding to a word in the document (input)\n",
    "- `W`: a list of weight matrices connecting each part of the network, e.g. for a network with a hidden and an output layer: W[0] is the weight matrix that connects the input to the first hidden layer, W[1] is the weight matrix that connects the hidden layer to the output layer.\n",
    "- `dropout_rate`: the dropout rate that is used to generate a random dropout mask vector applied after each hidden layer for regularisation.\n",
    "\n",
    "and returns:\n",
    "\n",
    "- `out_vals`: a dictionary of output values from each layer: h (the vector before the activation function), a (the resulting vector after passing h from the activation function), its dropout mask vector; and the prediction vector (probability for each class) from the output layer."
   ]
  },
  {
   "cell_type": "code",
   "execution_count": 26,
   "metadata": {
    "ExecuteTime": {
     "end_time": "2020-04-02T14:26:54.761268Z",
     "start_time": "2020-04-02T14:26:54.753402Z"
    }
   },
   "outputs": [],
   "source": [
    "def forward_pass(x, W, dropout_rate=0.2):\n",
    "    \n",
    "    \n",
    "    h_vecs = []\n",
    "    a_vecs = []\n",
    "    dropout_vecs = []\n",
    "    out_vals = {}\n",
    "    \n",
    "    for i in range(len(W)-1):\n",
    "        if i == 0:\n",
    "            #Choose the input vector\n",
    "            vec = [W[i][indice] for indice in x]\n",
    "            h = np.sum(vec,axis = 0)/len(x)\n",
    "        else:\n",
    "            h = np.dot(output,W[i])\n",
    "        # Apply Activation Function Relu\n",
    "        a = relu(h)\n",
    "        #Apply Dropout\n",
    "        drop_vec = dropout_mask(len(a), dropout_rate)\n",
    "        output = a*drop_vec\n",
    "        \n",
    "        h_vecs.append(h)\n",
    "        a_vecs.append(a)\n",
    "        dropout_vecs.append(drop_vec)\n",
    "    # Apply Activation Function softmax   \n",
    "    y_pre = softmax(np.dot(output,W[len(W)-1]))\n",
    "    \n",
    "    out_vals['h'] = h_vecs\n",
    "    out_vals['a'] = a_vecs\n",
    "    out_vals['dropout_vecs'] = dropout_vecs\n",
    "    out_vals['y'] = y_pre\n",
    "         \n",
    "    \n",
    "    \n",
    "    return out_vals\n",
    "    "
   ]
  },
  {
   "cell_type": "code",
   "execution_count": 27,
   "metadata": {},
   "outputs": [
    {
     "name": "stdout",
     "output_type": "stream",
     "text": [
      "Shape W0 (3, 4)\n",
      "Shape W1 (4, 5)\n",
      "Shape W2 (5, 2)\n",
      "\n",
      "{'h': [array([-0.04668263, -0.12518334,  0.17532286, -0.32932055], dtype=float32), array([-0.01851934,  0.04051239, -0.05942235,  0.01765476,  0.0641444 ])], 'a': [array([0.        , 0.        , 0.17532286, 0.        ], dtype=float32), array([0.        , 0.04051239, 0.        , 0.01765476, 0.0641444 ])], 'dropout_vecs': [array([1., 0., 1., 0.]), array([0., 0., 1., 1., 1.])], 'y': array([0.48946731, 0.51053269])}\n"
     ]
    }
   ],
   "source": [
    "W = network_weights(vocab_size=3,embedding_dim=4,hidden_dim=[5], num_classes=2)\n",
    "\n",
    "for i in range(len(W)):\n",
    "    print('Shape W'+str(i), W[i].shape)\n",
    "\n",
    "print()\n",
    "print(forward_pass([2,1], W, dropout_rate=0.5))"
   ]
  },
  {
   "cell_type": "markdown",
   "metadata": {},
   "source": [
    "The `backward_pass` function computes the gradients and update the weights for each matrix in the network from the output to the input. It takes as input \n",
    "\n",
    "- `x`: a list of vocabulary indices each corresponding to a word in the document (input)\n",
    "- `y`: the true label\n",
    "- `W`: a list of weight matrices connecting each part of the network, e.g. for a network with a hidden and an output layer: W[0] is the weight matrix that connects the input to the first hidden layer, W[1] is the weight matrix that connects the hidden layer to the output layer.\n",
    "- `out_vals`: a dictionary of output values from a forward pass.\n",
    "- `learning_rate`: the learning rate for updating the weights.\n",
    "- `freeze_emb`: boolean value indicating whether the embedding weights will be updated.\n",
    "\n",
    "and returns:\n",
    "\n",
    "- `W`: the updated weights of the network.\n",
    "\n",
    "Hint: the gradients on the output layer are similar to the multiclass logistic regression."
   ]
  },
  {
   "cell_type": "code",
   "execution_count": 28,
   "metadata": {
    "ExecuteTime": {
     "end_time": "2020-04-02T14:26:56.225630Z",
     "start_time": "2020-04-02T14:26:56.216508Z"
    }
   },
   "outputs": [],
   "source": [
    "def backward_pass(x, y, W, out_vals, lr=0.001, freeze_emb=False): \n",
    "    \n",
    "    for i in range(len(W)-1):\n",
    "        if i == 0:\n",
    "            y_ture = np.zeros(W[len(W)-1].shape[1])\n",
    "            y_ture[y-1] = 1\n",
    "            g = out_vals['y'] - y_ture\n",
    "            output = (out_vals['a'][-1]*out_vals['dropout_vecs'][-1]).reshape(W[len(W)-1].shape[0],1)\n",
    "            dw = np.dot(output, g.reshape(1,W[len(W)-1].shape[1]))\n",
    "            #Compute the gradient g\n",
    "            g = (np.dot(W[len(W)-1],g).reshape(1,W[len(W)-1].shape[0]))* out_vals['dropout_vecs'][len(W)-2]\n",
    "            #Update weights W\n",
    "            W[len(W)-1] = W[len(W)-1] - lr*dw\n",
    "        else:  \n",
    "            g = g * relu_derivative(out_vals['h'][len(W)-1-i]).reshape(1, W[len(W)-i].shape[0])\n",
    "            output = (out_vals['a'][len(W)-2-i]*out_vals['dropout_vecs'][len(W)-2-i]).reshape(W[len(W)-1-i].shape[0],1)\n",
    "            dw = np.dot(output, g)\n",
    "            #Compute the gradient g\n",
    "            g = (np.dot(W[len(W)-1-i],g.T).reshape(1,W[len(W)-1-i].shape[0]))* out_vals['dropout_vecs'][len(W)-2-i]\n",
    "            #Update weights W\n",
    "            W[len(W)-1-i] = W[len(W)-1-i] - lr*dw\n",
    "        \n",
    "    #If freeze_emb is false, then update the W0, otherwise, do not update.\n",
    "    if freeze_emb ==False:\n",
    "        x_input = np.zeros([W[0].shape[0],1])\n",
    "        x_input[x] = 1\n",
    "        g = g*relu_derivative(out_vals['h'][0]).reshape(1, W[0].shape[1])\n",
    "        dw = np.dot(x_input,g)\n",
    "        #Update weights W0\n",
    "        W[0] = W[0] - lr*dw            \n",
    "    \n",
    "    return W"
   ]
  },
  {
   "cell_type": "markdown",
   "metadata": {
    "ExecuteTime": {
     "end_time": "2020-02-15T14:08:59.937442Z",
     "start_time": "2020-02-15T14:08:59.932221Z"
    }
   },
   "source": [
    "Finally you need to modify SGD to support back-propagation by using the `forward_pass` and `backward_pass` functions.\n",
    "\n",
    "The `SGD` function takes as input:\n",
    "\n",
    "- `X_tr`: array of training data (vectors)\n",
    "- `Y_tr`: labels of `X_tr`\n",
    "- `W`: the weights of the network (dictionary)\n",
    "- `X_dev`: array of development (i.e. validation) data (vectors)\n",
    "- `Y_dev`: labels of `X_dev`\n",
    "- `lr`: learning rate\n",
    "- `dropout`: regularisation strength\n",
    "- `epochs`: number of full passes over the training data\n",
    "- `tolerance`: stop training if the difference between the current and previous validation loss is smaller than a threshold\n",
    "- `freeze_emb`: boolean value indicating whether the embedding weights will be updated (to be used by the backward pass function).\n",
    "- `print_progress`: flag for printing the training progress (train/validation loss)\n",
    "\n",
    "\n",
    "and returns:\n",
    "\n",
    "- `weights`: the weights learned\n",
    "- `training_loss_history`: an array with the average losses of the whole training set after each epoch\n",
    "- `validation_loss_history`: an array with the average losses of the whole development set after each epoch"
   ]
  },
  {
   "cell_type": "code",
   "execution_count": 29,
   "metadata": {},
   "outputs": [],
   "source": [
    "# This fuction is used to compute average loss for all data. \n",
    "def compute_loss(x, y, W, dropout_rate):\n",
    "    \n",
    "    loss_all = 0.0\n",
    "    for i in range(len(x)):\n",
    "        out_vals = forward_pass(x[i], W, dropout_rate)\n",
    "        y_pre = out_vals['y']\n",
    "        loss = categorical_loss(y[i]-1,y_pre)\n",
    "        loss_all += loss\n",
    "        loss_average = loss_all/(len(x))\n",
    "        \n",
    "    return loss_average"
   ]
  },
  {
   "cell_type": "code",
   "execution_count": 30,
   "metadata": {
    "ExecuteTime": {
     "end_time": "2020-04-02T15:09:19.021428Z",
     "start_time": "2020-04-02T15:09:19.017835Z"
    }
   },
   "outputs": [],
   "source": [
    "def SGD(X_tr, Y_tr, W, X_dev=[], Y_dev=[], lr=0.001, \n",
    "        dropout=0.2, epochs=5, tolerance=0.001, freeze_emb=False, print_progress=True):\n",
    "    \n",
    "    \n",
    "    pre_loss_dev = 10.\n",
    "    training_loss_history = []\n",
    "    validation_loss_history = []\n",
    "    \n",
    "    \n",
    "    #Perform multiple epochs over the training data \n",
    "    for i in range(epochs):\n",
    "        #Randomise the order of training data after each epoch\n",
    "        np.random.seed(i)\n",
    "        new_X_tr = np.random.permutation(X_tr)\n",
    "        np.random.seed(i)\n",
    "        new_Y_tr = np.random.permutation(Y_tr)\n",
    "        \n",
    "        for j, X_tr_row in enumerate(new_X_tr):\n",
    "            out_vals = forward_pass(X_tr_row, W, dropout_rate=dropout)\n",
    "            W = backward_pass(X_tr_row, new_Y_tr[j], W, out_vals,lr=lr,freeze_emb=freeze_emb)\n",
    "            \n",
    "        #compute training loss\n",
    "        train_loss = compute_loss(new_X_tr,new_Y_tr,W,dropout_rate=dropout)\n",
    "        training_loss_history.append(train_loss)\n",
    "        \n",
    "        #compute validation set loss\n",
    "        valid_loss = compute_loss(X_dev,Y_dev,W,dropout_rate=dropout)\n",
    "        validation_loss_history.append(valid_loss)\n",
    "        \n",
    "        #After each epoch print the training and development loss\n",
    "        if print_progress==True:\n",
    "            print('Epoch: %d' % i, '| Training loss: %f' % train_loss, '| Validation loss: %f' % valid_loss)\n",
    "        \n",
    "        #Stop training if the difference between the current and previous validation loss is smaller than tolerance\n",
    "        if (pre_loss_dev-valid_loss)<tolerance:\n",
    "            break\n",
    "        pre_loss_dev = valid_loss\n",
    "     \n",
    "    return W, training_loss_history, validation_loss_history"
   ]
  },
  {
   "cell_type": "markdown",
   "metadata": {
    "ExecuteTime": {
     "end_time": "2020-02-15T14:10:15.772383Z",
     "start_time": "2020-02-15T14:10:15.767855Z"
    }
   },
   "source": [
    "Now you are ready to train and evaluate you neural net. First, you need to define your network using the `network_weights` function followed by SGD with backprop:"
   ]
  },
  {
   "cell_type": "code",
   "execution_count": 31,
   "metadata": {},
   "outputs": [
    {
     "name": "stdout",
     "output_type": "stream",
     "text": [
      "Shape W0 (1000, 300)\n",
      "Shape W1 (300, 3)\n"
     ]
    }
   ],
   "source": [
    "W = network_weights(vocab_size=len(vocab),embedding_dim=300,hidden_dim=[], num_classes=3, init_val = 0.1)\n",
    "\n",
    "for i in range(len(W)):\n",
    "    print('Shape W'+str(i), W[i].shape)"
   ]
  },
  {
   "cell_type": "code",
   "execution_count": 32,
   "metadata": {},
   "outputs": [
    {
     "name": "stdout",
     "output_type": "stream",
     "text": [
      "Epoch: 0 | Training loss: 1.085098 | Validation loss: 1.090768\n",
      "Epoch: 1 | Training loss: 1.056785 | Validation loss: 1.071332\n",
      "Epoch: 2 | Training loss: 0.989174 | Validation loss: 1.026021\n",
      "Epoch: 3 | Training loss: 0.869137 | Validation loss: 0.932944\n",
      "Epoch: 4 | Training loss: 0.730339 | Validation loss: 0.814517\n",
      "Epoch: 5 | Training loss: 0.602586 | Validation loss: 0.687907\n",
      "Epoch: 6 | Training loss: 0.508049 | Validation loss: 0.589408\n",
      "Epoch: 7 | Training loss: 0.435026 | Validation loss: 0.505415\n",
      "Epoch: 8 | Training loss: 0.382233 | Validation loss: 0.472904\n",
      "Epoch: 9 | Training loss: 0.339317 | Validation loss: 0.414432\n",
      "Epoch: 10 | Training loss: 0.311210 | Validation loss: 0.398562\n",
      "Epoch: 11 | Training loss: 0.288879 | Validation loss: 0.363073\n",
      "Epoch: 12 | Training loss: 0.267523 | Validation loss: 0.370407\n"
     ]
    }
   ],
   "source": [
    "W, loss_tr, dev_loss = SGD(X_tr, Y_tr=train_label,\n",
    "                                W=W,\n",
    "                                X_dev=X_dev, \n",
    "                                Y_dev=dev_label,\n",
    "                                lr=0.01, \n",
    "                                dropout=0.5,\n",
    "                                freeze_emb=False,\n",
    "                                print_progress=True,\n",
    "                                tolerance=0.001,\n",
    "                                epochs=50)"
   ]
  },
  {
   "cell_type": "markdown",
   "metadata": {},
   "source": [
    "Plot the learning process:"
   ]
  },
  {
   "cell_type": "code",
   "execution_count": 33,
   "metadata": {
    "ExecuteTime": {
     "end_time": "2020-04-02T14:27:15.716497Z",
     "start_time": "2020-04-02T14:27:15.612736Z"
    }
   },
   "outputs": [
    {
     "data": {
      "image/png": "[encoded data removed]",
      "text/plain": [
       "<Figure size 432x288 with 1 Axes>"
      ]
     },
     "metadata": {
      "needs_background": "light"
     },
     "output_type": "display_data"
    }
   ],
   "source": [
    "x = np.linspace(0,len(loss_tr),len(loss_tr))\n",
    "y1, y2 = loss_tr, dev_loss\n",
    " \n",
    "plt.plot(x, y1,label='Training loss')\n",
    "plt.plot(x, y2, label='Validation loss')\n",
    " \n",
    "plt.title('Training Monitoring')\n",
    "plt.xlabel('Epochs')\n",
    "plt.ylabel('Loss')\n",
    "plt.legend() \n",
    "plt.show()"
   ]
  },
  {
   "cell_type": "markdown",
   "metadata": {},
   "source": [
    "Compute accuracy, precision, recall and F1-Score:"
   ]
  },
  {
   "cell_type": "code",
   "execution_count": 34,
   "metadata": {
    "ExecuteTime": {
     "end_time": "2020-04-02T15:10:11.037495Z",
     "start_time": "2020-04-02T15:10:11.034999Z"
    }
   },
   "outputs": [
    {
     "name": "stdout",
     "output_type": "stream",
     "text": [
      "Accuracy: 0.8541202672605791\n",
      "Precision: 0.8553989651416122\n",
      "Recall: 0.8540431066518024\n",
      "F1-Score: 0.8537385554939777\n"
     ]
    }
   ],
   "source": [
    "preds_te = [np.argmax(forward_pass(x, W, dropout_rate=0.0)['y'])+1 for x,y in zip(X_test,test_label)]\n",
    "print('Accuracy:', accuracy_score(test_label,preds_te))\n",
    "print('Precision:', precision_score(test_label,preds_te,average='macro'))\n",
    "print('Recall:', recall_score(test_label,preds_te,average='macro'))\n",
    "print('F1-Score:', f1_score(test_label,preds_te,average='macro'))"
   ]
  },
  {
   "cell_type": "markdown",
   "metadata": {},
   "source": [
    "### Discuss how did you choose model hyperparameters ? "
   ]
  },
  {
   "cell_type": "code",
   "execution_count": 35,
   "metadata": {},
   "outputs": [
    {
     "name": "stdout",
     "output_type": "stream",
     "text": [
      "The F1_score of training, validation and test for each hyperparam combination: [0.9230797575506674, 0.9011104089554934, 0.843015447391184]\n",
      "\n",
      "The F1_score of training, validation and test for each hyperparam combination: [0.9243778645202626, 0.9014987401748696, 0.8518404333241109]\n",
      "\n",
      "The F1_score of training, validation and test for each hyperparam combination: [0.5167834514816145, 0.3488359580184888, 0.4515225913215685]\n",
      "\n",
      "The F1_score of training, validation and test for each hyperparam combination: [0.47927259667358496, 0.3741314929277235, 0.4698517638376884]\n",
      "\n",
      "The F1_score of training, validation and test for each hyperparam combination: [0.9555596129353071, 0.9073924989586337, 0.839624875453102]\n",
      "\n",
      "The F1_score of training, validation and test for each hyperparam combination: [0.9179345401523261, 0.8944862155388472, 0.8561013907738996]\n",
      "\n",
      "The F1_score of training, validation and test for each hyperparam combination: [0.9037584933163155, 0.8875661375661376, 0.8334734128314416]\n",
      "\n",
      "The F1_score of training, validation and test for each hyperparam combination: [0.5393380151997329, 0.3855803974706414, 0.4696860574589142]\n",
      "\n"
     ]
    }
   ],
   "source": [
    "# choose model hyperparameters: learning rate and regularisation strength\n",
    "embedding_dim_hyper = [100,300]\n",
    "lr_hyper = [0.01,0.001]\n",
    "dropout_hyper = [0.2,0.5]\n",
    "result_all = []\n",
    "result = []\n",
    "hyper_list = []\n",
    "for emb in range(len(embedding_dim_hyper)):\n",
    "    for lr in range(len(lr_hyper)):\n",
    "        for drop in range(len(dropout_hyper)):\n",
    "            W = network_weights(vocab_size=len(vocab),embedding_dim=embedding_dim_hyper[emb],hidden_dim=[], num_classes=3, init_val = 0.1)\n",
    "            W, loss_tr, dev_loss = SGD(X_tr, Y_tr=train_label,\n",
    "                                W=W,\n",
    "                                X_dev=X_dev, \n",
    "                                Y_dev=dev_label,\n",
    "                                lr=lr_hyper[lr], \n",
    "                                dropout=dropout_hyper[drop],\n",
    "                                freeze_emb=False,\n",
    "                                print_progress=False,\n",
    "                                tolerance=0.001,\n",
    "                                epochs=50)\n",
    "            #The performance of the training for each hyperparam combination \n",
    "            preds_te = [np.argmax(forward_pass(x, W, dropout_rate=0.0)['y'])+1 for x,y in zip(X_tr,train_label)]\n",
    "            tr_f1 = f1_score(train_label, preds_te, average='macro')\n",
    "            result.append(tr_f1)\n",
    "           \n",
    "            #The performance of the  validation for each hyperparam combination \n",
    "            preds_te = [np.argmax(forward_pass(x, W, dropout_rate=0.0)['y'])+1 for x,y in zip(X_dev,dev_label)]\n",
    "            dev_f1 = f1_score(dev_label, preds_te, average='macro')\n",
    "            result.append(dev_f1)\n",
    "            \n",
    "            #The performance of the test for each hyperparam combination \n",
    "            preds_te = [np.argmax(forward_pass(x, W, dropout_rate=0.0)['y'])+1 for x,y in zip(X_test,test_label)]\n",
    "            test_f1 = f1_score(test_label, preds_te, average='macro')\n",
    "            result.append(test_f1)\n",
    "            result_all.append(result)\n",
    "            print(\"The F1_score of training, validation and test for each hyperparam combination: \"+str(result)+\"\\n\")\n",
    "            result = [] \n",
    "            hyper = 'emb_dim={emb}, lr={lr}, dropout={dropout}'\n",
    "            hyper = hyper.format(emb=embedding_dim_hyper[emb], lr=lr_hyper[lr], dropout=dropout_hyper[drop])\n",
    "            hyper_list.append(hyper)\n",
    "                   "
   ]
  },
  {
   "cell_type": "markdown",
   "metadata": {},
   "source": [
    "### The function plot_table can be used to plot tables. "
   ]
  },
  {
   "cell_type": "code",
   "execution_count": 36,
   "metadata": {},
   "outputs": [],
   "source": [
    "def plot_table(row, col, vals):\n",
    "    \n",
    "    R, C = len(row), len(col)\n",
    "    idx = Index(row)\n",
    "    df = DataFrame(np.random.randn(R, C), index=idx, columns=col)\n",
    "    # Adjust the table size\n",
    "    figC, figR = 4*C, 1.5*R\n",
    "    fig = plt.figure(figsize=(figC, figR))\n",
    "    \n",
    "    ax = fig.add_subplot(111, frameon=True, xticks=[], yticks=[])\n",
    "    ax.spines['top'].set_visible(False)\n",
    "    ax.spines['right'].set_visible(False)\n",
    "    ax.spines['bottom'].set_visible(False)\n",
    "    ax.spines['left'].set_visible(False)\n",
    "    \n",
    "    the_table=plt.table(cellText=vals, rowLabels=df.index, colLabels=df.columns, colWidths = [0.1]*vals.shape[1], rowLoc='center', loc='center',cellLoc='center')\n",
    "    the_table.set_fontsize(20)\n",
    "    \n",
    "    the_table.scale(figR/R*2 ,figC/C*1.5)\n",
    " "
   ]
  },
  {
   "cell_type": "code",
   "execution_count": 37,
   "metadata": {},
   "outputs": [
    {
     "data": {
      "image/png": "[encoded data removed]",
      "text/plain": [
       "<Figure size 864x864 with 1 Axes>"
      ]
     },
     "metadata": {},
     "output_type": "display_data"
    }
   ],
   "source": [
    "col = [\"Training performance (F1_score)\",\"Validation performance (F1_score)\",\"Test performance (F1_score)\"]\n",
    "row = hyper_list\n",
    "vals = np.array(result_all)\n",
    "\n",
    "plot_table(row, col, vals)"
   ]
  },
  {
   "cell_type": "markdown",
   "metadata": {},
   "source": [
    "When emb_dim=300, Ir=0.01, dropout=0.5, the model basically has no overfitting problem, and the test data has the best performance. In addition, generally, the model performs better when dropout=0.5 compared with the dropout=0.2."
   ]
  },
  {
   "cell_type": "markdown",
   "metadata": {},
   "source": [
    "# Use Pre-trained Embeddings\n",
    "\n",
    "Now re-train the network using GloVe pre-trained embeddings. You need to modify the `backward_pass` function above to stop computing gradients and updating weights of the embedding matrix.\n",
    "\n",
    "Use the function below to obtain the embedding martix for your vocabulary."
   ]
  },
  {
   "cell_type": "code",
   "execution_count": 38,
   "metadata": {
    "ExecuteTime": {
     "end_time": "2020-04-02T14:27:32.020697Z",
     "start_time": "2020-04-02T14:27:32.015733Z"
    }
   },
   "outputs": [],
   "source": [
    "def get_glove_embeddings(f_zip, f_txt, word2id, emb_size=300):\n",
    "    \n",
    "    w_emb = np.zeros((len(word2id), emb_size))\n",
    "    \n",
    "    with zipfile.ZipFile(f_zip) as z:\n",
    "        with z.open(f_txt) as f:\n",
    "            for line in f:\n",
    "                line = line.decode('utf-8')\n",
    "                word = line.split()[0]\n",
    "                     \n",
    "                if word in vocab:\n",
    "                    emb = np.array(line.strip('\\n').split()[1:]).astype(np.float32)\n",
    "                    w_emb[word2id[word]] +=emb\n",
    "    return w_emb"
   ]
  },
  {
   "cell_type": "code",
   "execution_count": 39,
   "metadata": {
    "ExecuteTime": {
     "end_time": "2020-04-02T14:28:54.548613Z",
     "start_time": "2020-04-02T14:27:32.780248Z"
    }
   },
   "outputs": [],
   "source": [
    "w_glove = get_glove_embeddings(\"glove.840B.300d.zip\",\"glove.840B.300d.txt\",word2id = vocab_dict)"
   ]
  },
  {
   "cell_type": "markdown",
   "metadata": {},
   "source": [
    "First, initialise the weights of your network using the `network_weights` function. Second, replace the weigths of the embedding matrix with `w_glove`. Finally, train the network by freezing the embedding weights: "
   ]
  },
  {
   "cell_type": "code",
   "execution_count": 40,
   "metadata": {
    "ExecuteTime": {
     "end_time": "2020-04-02T14:30:11.121198Z",
     "start_time": "2020-04-02T14:29:24.946124Z"
    }
   },
   "outputs": [
    {
     "name": "stdout",
     "output_type": "stream",
     "text": [
      "Shape W0 (1000, 300)\n",
      "Shape W1 (300, 3)\n"
     ]
    }
   ],
   "source": [
    "W = network_weights(vocab_size=len(vocab),embedding_dim=300,hidden_dim=[], num_classes=3, init_val = 0.1)\n",
    "#Replace the weigths of the embedding matrix with w_glove\n",
    "W[0] = w_glove\n",
    "\n",
    "for i in range(len(W)):\n",
    "    print('Shape W'+str(i), W[i].shape)"
   ]
  },
  {
   "cell_type": "code",
   "execution_count": 41,
   "metadata": {},
   "outputs": [
    {
     "name": "stdout",
     "output_type": "stream",
     "text": [
      "Epoch: 0 | Training loss: 0.876189 | Validation loss: 0.892723\n",
      "Epoch: 1 | Training loss: 0.757452 | Validation loss: 0.771611\n",
      "Epoch: 2 | Training loss: 0.689007 | Validation loss: 0.679717\n",
      "Epoch: 3 | Training loss: 0.634810 | Validation loss: 0.620647\n",
      "Epoch: 4 | Training loss: 0.599643 | Validation loss: 0.586200\n",
      "Epoch: 5 | Training loss: 0.573217 | Validation loss: 0.563119\n",
      "Epoch: 6 | Training loss: 0.552804 | Validation loss: 0.561694\n",
      "Epoch: 7 | Training loss: 0.540812 | Validation loss: 0.485165\n",
      "Epoch: 8 | Training loss: 0.524291 | Validation loss: 0.499837\n"
     ]
    }
   ],
   "source": [
    "W, loss_tr, dev_loss = SGD(X_tr, Y_tr=train_label,\n",
    "                                W=W,\n",
    "                                X_dev=X_dev, \n",
    "                                Y_dev=dev_label,\n",
    "                                lr=0.01, \n",
    "                                dropout=0.5,\n",
    "                                freeze_emb=True,\n",
    "                                print_progress=True,\n",
    "                                tolerance=0.0001,\n",
    "                                epochs=50)"
   ]
  },
  {
   "cell_type": "markdown",
   "metadata": {},
   "source": [
    "Plot the learning process:"
   ]
  },
  {
   "cell_type": "code",
   "execution_count": 42,
   "metadata": {},
   "outputs": [
    {
     "data": {
      "image/png": "[encoded data removed]",
      "text/plain": [
       "<Figure size 432x288 with 1 Axes>"
      ]
     },
     "metadata": {
      "needs_background": "light"
     },
     "output_type": "display_data"
    }
   ],
   "source": [
    "x = np.linspace(0,len(loss_tr),len(loss_tr))\n",
    "y1, y2 = loss_tr, dev_loss\n",
    " \n",
    "plt.plot(x, y1,label='Training loss')\n",
    "plt.plot(x, y2, label='Validation loss')\n",
    " \n",
    "plt.title('Training Monitoring')\n",
    "plt.xlabel('Epochs')\n",
    "plt.ylabel('Loss')\n",
    "plt.legend() \n",
    "plt.show()"
   ]
  },
  {
   "cell_type": "markdown",
   "metadata": {},
   "source": [
    "Compute accuracy, precision, recall and F1-Score:"
   ]
  },
  {
   "cell_type": "code",
   "execution_count": 43,
   "metadata": {
    "ExecuteTime": {
     "end_time": "2020-04-02T15:12:00.815184Z",
     "start_time": "2020-04-02T15:12:00.812563Z"
    }
   },
   "outputs": [
    {
     "name": "stdout",
     "output_type": "stream",
     "text": [
      "Accuracy: 0.8663697104677061\n",
      "Precision: 0.8660034582359087\n",
      "Recall: 0.8662987736900781\n",
      "F1-Score: 0.8657112503413825\n"
     ]
    }
   ],
   "source": [
    "preds_te = [np.argmax(forward_pass(x, W, dropout_rate=0.0)['y'])+1 for x,y in zip(X_test,test_label)]\n",
    "print('Accuracy:', accuracy_score(test_label,preds_te))\n",
    "print('Precision:', precision_score(test_label,preds_te,average='macro'))\n",
    "print('Recall:', recall_score(test_label,preds_te,average='macro'))\n",
    "print('F1-Score:', f1_score(test_label,preds_te,average='macro'))"
   ]
  },
  {
   "cell_type": "markdown",
   "metadata": {},
   "source": [
    "##### We re-train the network by using pre-trained embeddings (GloVe) trained on large corpora, and from above results , we can see that we got better performance."
   ]
  },
  {
   "cell_type": "markdown",
   "metadata": {},
   "source": [
    "### Discuss how did you choose model hyperparameters ? "
   ]
  },
  {
   "cell_type": "code",
   "execution_count": 44,
   "metadata": {},
   "outputs": [
    {
     "name": "stdout",
     "output_type": "stream",
     "text": [
      "The F1_score of training, validation and test for each hyperparam combination: [0.8863323308229472, 0.9074194324194323, 0.8640093018260552]\n",
      "\n",
      "The F1_score of training, validation and test for each hyperparam combination: [0.8804862978600254, 0.9074194324194323, 0.8672576412221299]\n",
      "\n",
      "The F1_score of training, validation and test for each hyperparam combination: [0.8748735126179166, 0.9007417243414347, 0.865834879818971]\n",
      "\n",
      "The F1_score of training, validation and test for each hyperparam combination: [0.8677133930408263, 0.9002820803678088, 0.8633908553592927]\n",
      "\n",
      "The F1_score of training, validation and test for each hyperparam combination: [0.8622258522463141, 0.887302625205851, 0.8619812595864755]\n",
      "\n",
      "The F1_score of training, validation and test for each hyperparam combination: [0.841993103412278, 0.8743521747554005, 0.8418336596236541]\n",
      "\n"
     ]
    }
   ],
   "source": [
    "# choose model hyperparameters: learning rate and regularisation strength\n",
    "lr_hyper = [0.01,0.001]\n",
    "dropout_hyper = [0.2,0.4,0.6]\n",
    "result_all = []\n",
    "result = []\n",
    "hyper_list = []\n",
    "\n",
    "for lr in range(len(lr_hyper)):\n",
    "    for drop in range(len(dropout_hyper)):\n",
    "        W = network_weights(vocab_size=len(vocab),embedding_dim=300,hidden_dim=[], num_classes=3, init_val = 0.1)\n",
    "        W[0] = w_glove\n",
    "        W, loss_tr, dev_loss = SGD(X_tr, Y_tr=train_label,\n",
    "                            W=W,\n",
    "                            X_dev=X_dev, \n",
    "                            Y_dev=dev_label,\n",
    "                            lr=lr_hyper[lr], \n",
    "                            dropout=dropout_hyper[drop],\n",
    "                            freeze_emb=True,\n",
    "                            print_progress=False,\n",
    "                            tolerance=0.001,\n",
    "                            epochs=50)\n",
    "        #The performance of the training for each hyperparam combination \n",
    "        preds_te = [np.argmax(forward_pass(x, W, dropout_rate=0.0)['y'])+1 for x,y in zip(X_tr,train_label)]\n",
    "        tr_f1 = f1_score(train_label, preds_te, average='macro')\n",
    "        result.append(tr_f1)\n",
    "           \n",
    "        #The performance of the  validation for each hyperparam combination \n",
    "        preds_te = [np.argmax(forward_pass(x, W, dropout_rate=0.0)['y'])+1 for x,y in zip(X_dev,dev_label)]\n",
    "        dev_f1 = f1_score(dev_label, preds_te, average='macro')\n",
    "        result.append(dev_f1)\n",
    "            \n",
    "        #The performance of the test for each hyperparam combination \n",
    "        preds_te = [np.argmax(forward_pass(x, W, dropout_rate=0.0)['y'])+1 for x,y in zip(X_test,test_label)]\n",
    "        test_f1 = f1_score(test_label, preds_te, average='macro')\n",
    "        result.append(test_f1)\n",
    "        result_all.append(result)\n",
    "        print(\"The F1_score of training, validation and test for each hyperparam combination: \"+str(result)+\"\\n\")\n",
    "        result = [] \n",
    "        hyper = 'lr={lr}, dropout={dropout}'\n",
    "        hyper = hyper.format(lr=lr_hyper[lr], dropout=dropout_hyper[drop])\n",
    "        hyper_list.append(hyper)"
   ]
  },
  {
   "cell_type": "code",
   "execution_count": 45,
   "metadata": {},
   "outputs": [
    {
     "data": {
      "image/png": "[encoded data removed]",
      "text/plain": [
       "<Figure size 864x648 with 1 Axes>"
      ]
     },
     "metadata": {},
     "output_type": "display_data"
    }
   ],
   "source": [
    "#Use plot_table fuction to plot table\n",
    "col = [\"Training performance (F1_score)\",\"Validation performance (F1_score)\",\"Test performance (F1_score)\"]\n",
    "row = hyper_list\n",
    "vals = np.array(result_all)\n",
    "\n",
    "plot_table(row, col, vals)"
   ]
  },
  {
   "cell_type": "markdown",
   "metadata": {},
   "source": [
    "#### We got better results compared with previous methods."
   ]
  },
  {
   "cell_type": "markdown",
   "metadata": {},
   "source": [
    "# Extend to support deeper architectures (Bonus)\n",
    "\n",
    "Extend the network to support back-propagation for more hidden layers. You need to modify the `backward_pass` function above to compute gradients and update the weights between intermediate hidden layers. Finally, train and evaluate a network with a deeper architecture. "
   ]
  },
  {
   "cell_type": "code",
   "execution_count": 50,
   "metadata": {
    "ExecuteTime": {
     "end_time": "2020-04-02T14:58:51.764619Z",
     "start_time": "2020-04-02T14:58:47.483690Z"
    }
   },
   "outputs": [
    {
     "name": "stdout",
     "output_type": "stream",
     "text": [
      "Shape W0 (1000, 300)\n",
      "Shape W1 (300, 200)\n",
      "Shape W2 (200, 100)\n",
      "Shape W3 (100, 3)\n"
     ]
    }
   ],
   "source": [
    "W = network_weights(vocab_size=len(vocab),embedding_dim=300,hidden_dim=[200,100], num_classes=3, init_val = 0.1)\n",
    "W[0] = w_glove\n",
    "\n",
    "for i in range(len(W)):\n",
    "    print('Shape W'+str(i), W[i].shape)"
   ]
  },
  {
   "cell_type": "code",
   "execution_count": 51,
   "metadata": {},
   "outputs": [
    {
     "name": "stdout",
     "output_type": "stream",
     "text": [
      "Epoch: 0 | Training loss: 1.097346 | Validation loss: 1.098555\n",
      "Epoch: 1 | Training loss: 1.094715 | Validation loss: 1.097254\n",
      "Epoch: 2 | Training loss: 1.089905 | Validation loss: 1.094537\n",
      "Epoch: 3 | Training loss: 1.074089 | Validation loss: 1.075473\n",
      "Epoch: 4 | Training loss: 1.021434 | Validation loss: 1.011303\n",
      "Epoch: 5 | Training loss: 0.856669 | Validation loss: 0.859397\n",
      "Epoch: 6 | Training loss: 0.676814 | Validation loss: 0.613226\n",
      "Epoch: 7 | Training loss: 0.548936 | Validation loss: 0.541251\n",
      "Epoch: 8 | Training loss: 0.537190 | Validation loss: 0.466192\n",
      "Epoch: 9 | Training loss: 0.499057 | Validation loss: 0.450908\n",
      "Epoch: 10 | Training loss: 0.498851 | Validation loss: 0.485478\n"
     ]
    }
   ],
   "source": [
    "W, loss_tr, dev_loss = SGD(X_tr, Y_tr=train_label,\n",
    "                                W=W,\n",
    "                                X_dev=X_dev, \n",
    "                                Y_dev=dev_label,\n",
    "                                lr=0.01, \n",
    "                                dropout=0.5,\n",
    "                                freeze_emb=True,\n",
    "                                print_progress=True,\n",
    "                                tolerance=0.0001,\n",
    "                                epochs=50)"
   ]
  },
  {
   "cell_type": "code",
   "execution_count": 52,
   "metadata": {},
   "outputs": [
    {
     "data": {
      "image/png": "[encoded data removed]",
      "text/plain": [
       "<Figure size 432x288 with 1 Axes>"
      ]
     },
     "metadata": {
      "needs_background": "light"
     },
     "output_type": "display_data"
    }
   ],
   "source": [
    "x = np.linspace(0,len(loss_tr),len(loss_tr))\n",
    "y1, y2 = loss_tr, dev_loss\n",
    " \n",
    "plt.plot(x, y1,label='Training loss')\n",
    "plt.plot(x, y2, label='Validation loss')\n",
    " \n",
    "plt.title('Training Monitoring')\n",
    "plt.xlabel('Epochs')\n",
    "plt.ylabel('Loss')\n",
    "plt.legend() \n",
    "plt.show()"
   ]
  },
  {
   "cell_type": "code",
   "execution_count": 53,
   "metadata": {},
   "outputs": [
    {
     "name": "stdout",
     "output_type": "stream",
     "text": [
      "Accuracy: 0.876391982182628\n",
      "Precision: 0.8773185280917151\n",
      "Recall: 0.876317354143441\n",
      "F1-Score: 0.8753218882950242\n"
     ]
    }
   ],
   "source": [
    "preds_te = [np.argmax(forward_pass(x, W, dropout_rate=0.0)['y'])+1 for x,y in zip(X_test,test_label)]\n",
    "print('Accuracy:', accuracy_score(test_label,preds_te))\n",
    "print('Precision:', precision_score(test_label,preds_te,average='macro'))\n",
    "print('Recall:', recall_score(test_label,preds_te,average='macro'))\n",
    "print('F1-Score:', f1_score(test_label,preds_te,average='macro'))"
   ]
  },
  {
   "cell_type": "markdown",
   "metadata": {},
   "source": [
    "#### The hidden layers affect the performance of the model training."
   ]
  },
  {
   "cell_type": "markdown",
   "metadata": {},
   "source": [
    "## Full Results\n",
    "\n",
    "Add your final results here:\n",
    "\n",
    "| Model | Precision  | Recall  | F1-Score  | Accuracy\n",
    "|:-:|:-:|:-:|:-:|:-:|\n",
    "| Average Embedding  | 0.855 | 0.854 | 0.854 | 0.854 |\n",
    "| Average Embedding (Pre-trained)  | 0.866 | 0.866 | 0.866 | 0.866 |\n",
    "| Average Embedding (Pre-trained) + X hidden layers (BONUS)   | 0.877 | 0.876 | 0.875 | 0.876 |\n"
   ]
  },
  {
   "cell_type": "code",
   "execution_count": null,
   "metadata": {},
   "outputs": [],
   "source": []
  }
 ],
 "metadata": {
  "kernelspec": {
   "display_name": "Python 3",
   "language": "python",
   "name": "python3"
  },
  "language_info": {
   "codemirror_mode": {
    "name": "ipython",
    "version": 3
   },
   "file_extension": ".py",
   "mimetype": "text/x-python",
   "name": "python",
   "nbconvert_exporter": "python",
   "pygments_lexer": "ipython3",
   "version": "3.6.9"
  }
 },
 "nbformat": 4,
 "nbformat_minor": 2
}
