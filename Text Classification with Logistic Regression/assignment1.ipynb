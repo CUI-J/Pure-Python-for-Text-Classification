{
 "cells": [
  {
   "cell_type": "markdown",
   "metadata": {},
   "source": [
    "# Assignment 1: Text Classification with Logistic Regression\n",
    "\n",
    "\n",
    "The goal of this assignment is to develop and test two text classification systems: \n",
    "\n",
    "- **Task 1:** sentiment analysis, in particular to predict the sentiment of movie review, i.e. positive or negative (binary classification).\n",
    "- **Task 2:** topic classification, to predict whether a news article is about International issues, Sports or Business (multiclass classification).\n",
    "\n",
    "\n",
    "### Data - Task 1 \n",
    "\n",
    "The data you will use for Task 1 are taken from here: [http://www.cs.cornell.edu/people/pabo/movie-review-data/](http://www.cs.cornell.edu/people/pabo/movie-review-data/) and you can find it in the `./data_sentiment` folder in CSV format:\n",
    "\n",
    "- `data_sentiment/train.csv`: contains 1,400 reviews, 700 positive (label: 1) and 700 negative (label: 0) to be used for training.\n",
    "- `data_sentiment/dev.csv`: contains 200 reviews, 100 positive and 100 negative to be used for hyperparameter selection and monitoring the training process.\n",
    "- `data_sentiment/test.csv`: contains 400 reviews, 200 positive and 200 negative to be used for testing.\n",
    "\n",
    "### Data - Task 2\n",
    "\n",
    "The data you will use for Task 2 is a subset of the [AG News Corpus](http://groups.di.unipi.it/~gulli/AG_corpus_of_news_articles.html) and you can find it in the `./data_topic` folder in CSV format:\n",
    "\n",
    "- `data_topic/train.csv`: contains 2,400 news articles, 800 for each class to be used for training.\n",
    "- `data_topic/dev.csv`: contains 150 news articles, 50 for each class to be used for hyperparameter selection and monitoring the training process.\n",
    "- `data_topic/test.csv`: contains 900 news articles, 300 for each class to be used for testing.\n",
    "\n"
   ]
  },
  {
   "cell_type": "code",
   "execution_count": 1,
   "metadata": {
    "ExecuteTime": {
     "end_time": "2020-02-15T14:31:36.292691Z",
     "start_time": "2020-02-15T14:31:35.549108Z"
    }
   },
   "outputs": [],
   "source": [
    "import pandas as pd\n",
    "import numpy as np\n",
    "from collections import Counter\n",
    "import re\n",
    "import matplotlib.pyplot as plt\n",
    "from sklearn.metrics import accuracy_score, precision_score, recall_score, f1_score\n",
    "import random\n",
    "\n",
    "# fixing random seed for reproducibility\n",
    "random.seed(123)\n",
    "np.random.seed(123)\n"
   ]
  },
  {
   "cell_type": "markdown",
   "metadata": {},
   "source": [
    "## Load Raw texts and labels into arrays\n",
    "\n",
    "First, you need to load the training, development and test sets from their corresponding CSV files (tip: you can use Pandas dataframes)."
   ]
  },
  {
   "cell_type": "code",
   "execution_count": 2,
   "metadata": {
    "ExecuteTime": {
     "end_time": "2020-02-15T14:17:28.145788Z",
     "start_time": "2020-02-15T14:17:28.066100Z"
    }
   },
   "outputs": [],
   "source": [
    "# load the training, development and test sets\n",
    "train_data = pd.read_csv('data_sentiment/train.csv',header=None, names=['text','label'])\n",
    "dev_data = pd.read_csv('data_sentiment/dev.csv',header=None, names=['text','label'])\n",
    "test_data = pd.read_csv('data_sentiment/test.csv',header=None, names=['text','label'])"
   ]
  },
  {
   "cell_type": "markdown",
   "metadata": {},
   "source": [
    "If you use Pandas you can see a sample of the data."
   ]
  },
  {
   "cell_type": "code",
   "execution_count": 3,
   "metadata": {},
   "outputs": [
    {
     "data": {
      "text/html": [
       "<div>\n",
       "<style scoped>\n",
       "    .dataframe tbody tr th:only-of-type {\n",
       "        vertical-align: middle;\n",
       "    }\n",
       "\n",
       "    .dataframe tbody tr th {\n",
       "        vertical-align: top;\n",
       "    }\n",
       "\n",
       "    .dataframe thead th {\n",
       "        text-align: right;\n",
       "    }\n",
       "</style>\n",
       "<table border=\"1\" class=\"dataframe\">\n",
       "  <thead>\n",
       "    <tr style=\"text-align: right;\">\n",
       "      <th></th>\n",
       "      <th>text</th>\n",
       "      <th>label</th>\n",
       "    </tr>\n",
       "  </thead>\n",
       "  <tbody>\n",
       "    <tr>\n",
       "      <th>0</th>\n",
       "      <td>note : some may consider portions of the follo...</td>\n",
       "      <td>1</td>\n",
       "    </tr>\n",
       "    <tr>\n",
       "      <th>1</th>\n",
       "      <td>note : some may consider portions of the follo...</td>\n",
       "      <td>1</td>\n",
       "    </tr>\n",
       "    <tr>\n",
       "      <th>2</th>\n",
       "      <td>every once in a while you see a film that is s...</td>\n",
       "      <td>1</td>\n",
       "    </tr>\n",
       "    <tr>\n",
       "      <th>3</th>\n",
       "      <td>when i was growing up in 1970s , boys in my sc...</td>\n",
       "      <td>1</td>\n",
       "    </tr>\n",
       "    <tr>\n",
       "      <th>4</th>\n",
       "      <td>the muppet movie is the first , and the best m...</td>\n",
       "      <td>1</td>\n",
       "    </tr>\n",
       "  </tbody>\n",
       "</table>\n",
       "</div>"
      ],
      "text/plain": [
       "                                                text  label\n",
       "0  note : some may consider portions of the follo...      1\n",
       "1  note : some may consider portions of the follo...      1\n",
       "2  every once in a while you see a film that is s...      1\n",
       "3  when i was growing up in 1970s , boys in my sc...      1\n",
       "4  the muppet movie is the first , and the best m...      1"
      ]
     },
     "execution_count": 3,
     "metadata": {},
     "output_type": "execute_result"
    }
   ],
   "source": [
    "train_data.head()"
   ]
  },
  {
   "cell_type": "code",
   "execution_count": 4,
   "metadata": {},
   "outputs": [
    {
     "data": {
      "text/plain": [
       "pandas.core.frame.DataFrame"
      ]
     },
     "execution_count": 4,
     "metadata": {},
     "output_type": "execute_result"
    }
   ],
   "source": [
    "type(train_data)"
   ]
  },
  {
   "cell_type": "markdown",
   "metadata": {},
   "source": [
    "The next step is to put the raw texts into Python lists and their corresponding labels into NumPy arrays:\n"
   ]
  },
  {
   "cell_type": "code",
   "execution_count": 5,
   "metadata": {
    "ExecuteTime": {
     "end_time": "2020-02-15T14:17:31.115577Z",
     "start_time": "2020-02-15T14:17:31.108038Z"
    }
   },
   "outputs": [],
   "source": [
    "# put the raw texts into Python lists\n",
    "train_text = train_data['text'].tolist()\n",
    "dev_text = dev_data['text'].tolist()\n",
    "test_text = test_data['text'].tolist()\n",
    "\n",
    "# put their corresponding labels into NumPy arrays\n",
    "train_label = np.array(train_data['label'])\n",
    "dev_label = np.array(dev_data['label'])\n",
    "test_label = np.array(test_data['label'])\n"
   ]
  },
  {
   "cell_type": "markdown",
   "metadata": {},
   "source": [
    "# Bag-of-Words Representation \n",
    "\n",
    "\n",
    "To train and test Logisitc Regression models, you first need to obtain vector representations for all documents given a vocabulary of features (unigrams, bigrams, trigrams).\n",
    "\n",
    "\n",
    "## Text Pre-Processing Pipeline\n",
    "\n",
    "To obtain a vocabulary of features, you should: \n",
    "- tokenise all texts into a list of unigrams (tip: using a regular expression) \n",
    "- remove stop words (using the one provided or one of your preference) \n",
    "- compute bigrams, trigrams given the remaining unigrams\n",
    "- remove ngrams appearing in less than K documents\n",
    "- use the remaining to create a vocabulary of unigrams, bigrams and trigrams (you can keep top N if you encounter memory issues).\n"
   ]
  },
  {
   "cell_type": "code",
   "execution_count": 6,
   "metadata": {
    "ExecuteTime": {
     "end_time": "2020-02-15T14:17:31.860420Z",
     "start_time": "2020-02-15T14:17:31.855439Z"
    }
   },
   "outputs": [],
   "source": [
    "stop_words = ['a','in','on','at','and','or', \n",
    "              'to', 'the', 'of', 'an', 'by', \n",
    "              'as', 'is', 'was', 'were', 'been', 'be', \n",
    "              'are','for', 'this', 'that', 'these', 'those', 'you', 'i',\n",
    "             'it', 'he', 'she', 'we', 'they' 'will', 'have', 'has',\n",
    "              'do', 'did', 'can', 'could', 'who', 'which', 'what', \n",
    "             'his', 'her', 'they', 'them', 'from', 'with', 'its']"
   ]
  },
  {
   "cell_type": "markdown",
   "metadata": {},
   "source": [
    "### N-gram extraction from a document\n",
    "\n",
    "You first need to implement the `extract_ngrams` function. It takes as input:\n",
    "- `x_raw`: a string corresponding to the raw text of a document\n",
    "- `ngram_range`: a tuple of two integers denoting the type of ngrams you want to extract, e.g. (1,2) denotes extracting unigrams and bigrams.\n",
    "- `token_pattern`: a string to be used within a regular expression to extract all tokens. Note that data is already tokenised so you could opt for a simple white space tokenisation.\n",
    "- `stop_words`: a list of stop words\n",
    "- `vocab`: a given vocabulary. It should be used to extract specific features.\n",
    "\n",
    "and returns:\n",
    "\n",
    "- `x` : a list of all extracted features.(Remove the same ngram)\n",
    "- `text_ngrams` : a list of all extracted features.(split for several list by different rows of `x_raw`（Two-dimensional）)\n",
    "\n",
    "See the examples below to see how this function should work."
   ]
  },
  {
   "cell_type": "code",
   "execution_count": 7,
   "metadata": {
    "ExecuteTime": {
     "end_time": "2020-02-15T14:17:33.169090Z",
     "start_time": "2020-02-15T14:17:33.161268Z"
    }
   },
   "outputs": [],
   "source": [
    "def extract_ngrams(x_raw, ngram_range=(1,3), token_pattern=r'\\b[A-Za-z][A-Za-z]+\\b', stop_words=[], vocab=set()):    \n",
    "    #create list x\n",
    "    x = []\n",
    "    #create list text_ngrams(store all extracted ngrams of documents)\n",
    "    text_ngrams = []\n",
    "    #extract texts according to different documents\n",
    "    for raw in x_raw:\n",
    "        #create list n_g_list(store a document of the extracted ngrams)  \n",
    "        n_g_list = []\n",
    "        # use stop_words to delete these words in document\n",
    "        train_token = re.findall(token_pattern,raw)\n",
    "        train_stop = []\n",
    "        for raw_token in train_token:\n",
    "            if raw_token not in stop_words:\n",
    "                train_stop.append(raw_token)\n",
    "        #use n_g_list list to save the extracted ngrams of a document.\n",
    "        for i in range(min(ngram_range),max(ngram_range)+1):\n",
    "            length = len(train_stop)-i+1\n",
    "            for j in range(length):\n",
    "                if i ==1:\n",
    "                    unigram = train_stop[j]\n",
    "                    x.append(unigram)\n",
    "                    n_g_list.append(unigram)\n",
    "                else:\n",
    "                    ngrams = tuple(train_stop[j:j+i])\n",
    "                    x.append(ngrams)\n",
    "                    n_g_list.append(ngrams)\n",
    "        text_ngrams.append(n_g_list)\n",
    "    x = set(x)\n",
    "    \n",
    "    return x, text_ngrams\n",
    "\n",
    "\n"
   ]
  },
  {
   "cell_type": "code",
   "execution_count": 8,
   "metadata": {},
   "outputs": [],
   "source": [
    "# Get the list of all extracted features for train set\n",
    "tr_x, tr_text_ngrams = extract_ngrams(x_raw = train_text, stop_words=stop_words)"
   ]
  },
  {
   "cell_type": "markdown",
   "metadata": {},
   "source": [
    "Note that it is OK to represent n-grams using lists instead of tuples: e.g. `['great', ['great', 'movie']]`"
   ]
  },
  {
   "cell_type": "markdown",
   "metadata": {},
   "source": [
    "### Create a vocabulary of n-grams\n",
    "\n",
    "Then the `get_vocab` function will be used to (1) create a vocabulary of ngrams; (2) count the document frequencies of ngrams; (3) their raw frequency. It takes as input:\n",
    "- `X_raw`: a list of strings each corresponding to the raw text of a document\n",
    "- `ngram_range`: a tuple of two integers denoting the type of ngrams you want to extract, e.g. (1,2) denotes extracting unigrams and bigrams.\n",
    "- `token_pattern`: a string to be used within a regular expression to extract all tokens. Note that data is already tokenised so you could opt for a simple white space tokenisation.\n",
    "- `stop_words`: a list of stop words\n",
    "- `vocab`: a given vocabulary. It should be used to extract specific features.\n",
    "- `min_df`: keep ngrams with a minimum document frequency.\n",
    "- `keep_topN`: keep top-N more frequent ngrams.\n",
    "\n",
    "and returns:\n",
    "\n",
    "- `vocab`: a set of the n-grams that will be used as features.\n",
    "- `df`: a Counter (or dict) that contains ngrams as keys and their corresponding document frequency as values.\n",
    "- `ngram_counts`: counts of each ngram in vocab\n",
    "\n",
    "Hint: it should make use of the `extract_ngrams` function."
   ]
  },
  {
   "cell_type": "code",
   "execution_count": 9,
   "metadata": {},
   "outputs": [],
   "source": [
    "def get_vocab(X_raw, ngram_range=(1,3), token_pattern=r'\\b[A-Za-z][A-Za-z]+\\b', min_df=0, keep_topN=5000, stop_words=[]):\n",
    "    \n",
    "    x, ngrams_list = extract_ngrams(x_raw=X_raw, stop_words=stop_words)\n",
    "    \n",
    "    df = {}    \n",
    "    # use dict(df) to save all ngrams as keys and their corresponding document frequency as values               \n",
    "    for grams in ngrams_list:\n",
    "        grams_uni = set(grams)\n",
    "        for n_gram in grams_uni:\n",
    "            if n_gram not in df.keys():\n",
    "                df[n_gram]=1\n",
    "            else:\n",
    "                df[n_gram]+=1\n",
    "\n",
    "    #order by the dict.values              \n",
    "    df = dict(sorted(df.items(), key=lambda x:x[1], reverse=True))\n",
    "    #keep top-N more frequent ngrams\n",
    "    df = {k: df[k] for k in list(df.keys())[:keep_topN]}\n",
    " \n",
    "    vocab= [ i for i in df.keys()]\n",
    "    ngram_counts= [ i for i in df.values()]\n",
    "    \n",
    "    return vocab, df, ngram_counts"
   ]
  },
  {
   "cell_type": "markdown",
   "metadata": {},
   "source": [
    "Now you should use `get_vocab` to create your vocabulary and get document and raw frequencies of n-grams:"
   ]
  },
  {
   "cell_type": "code",
   "execution_count": 10,
   "metadata": {},
   "outputs": [],
   "source": [
    "#according to train set to got my vocabulary as feature\n",
    "vocab, tr_df, tr_ngram_counts = get_vocab(X_raw=train_text, ngram_range=(1,3), keep_topN=5000, stop_words=stop_words)"
   ]
  },
  {
   "cell_type": "markdown",
   "metadata": {},
   "source": [
    "Then, you need to create vocabulary id -> word and id -> word dictionaries for reference:"
   ]
  },
  {
   "cell_type": "code",
   "execution_count": 12,
   "metadata": {
    "ExecuteTime": {
     "end_time": "2020-02-15T14:17:39.326811Z",
     "start_time": "2020-02-15T14:17:39.322256Z"
    }
   },
   "outputs": [],
   "source": [
    "# create word dictionaries \n",
    "vocab_dict = {}\n",
    "for i in range(len(vocab)):\n",
    "    vocab_dict[i] = vocab[i]"
   ]
  },
  {
   "cell_type": "markdown",
   "metadata": {},
   "source": [
    "Now you should be able to extract n-grams for each text in the training, development and test sets:"
   ]
  },
  {
   "cell_type": "code",
   "execution_count": 13,
   "metadata": {},
   "outputs": [],
   "source": [
    "dev_x, dev_text_ngrams = extract_ngrams(x_raw = dev_text, stop_words=stop_words)\n",
    "test_x, test_text_ngrams = extract_ngrams(x_raw = test_text, stop_words=stop_words)"
   ]
  },
  {
   "cell_type": "markdown",
   "metadata": {},
   "source": [
    "## Vectorise documents "
   ]
  },
  {
   "cell_type": "markdown",
   "metadata": {},
   "source": [
    "Next, write a function `vectoriser` to obtain Bag-of-ngram representations for a list of documents. The function should take as input:\n",
    "- `X_ngram`: a list of texts (documents), where each text is represented as list of n-grams in the `vocab`\n",
    "- `vocab`: a set of n-grams to be used for representing the documents\n",
    "\n",
    "and return:\n",
    "- `X_vec`: an array with dimensionality Nx|vocab| where N is the number of documents and |vocab| is the size of the vocabulary. Each element of the array should represent the frequency of a given n-gram in a document.\n"
   ]
  },
  {
   "cell_type": "code",
   "execution_count": 14,
   "metadata": {
    "ExecuteTime": {
     "end_time": "2020-02-15T14:17:40.219201Z",
     "start_time": "2020-02-15T14:17:40.215129Z"
    }
   },
   "outputs": [],
   "source": [
    "def vectorise(X_ngram, vocab):\n",
    "    #Create a two-dimensional array（initialize all zero）, the number of rows is the number of documents, the number of columns is the number of features\n",
    "    X_vec = np.zeros((len(X_ngram),len(vocab)))\n",
    "    for i, text in enumerate(X_ngram):\n",
    "        for j, word in enumerate(vocab):\n",
    "            #count the number of words of vocab appearing in the document.\n",
    "            count = text.count(word)\n",
    "            X_vec[i][j]=count\n",
    "                \n",
    "    \n",
    "    return X_vec"
   ]
  },
  {
   "cell_type": "markdown",
   "metadata": {},
   "source": [
    "Finally, use `vectorise` to obtain document vectors for each document in the train, development and test set. You should extract both count and tf.idf vectors respectively:"
   ]
  },
  {
   "cell_type": "markdown",
   "metadata": {},
   "source": [
    "#### Count vectors"
   ]
  },
  {
   "cell_type": "code",
   "execution_count": 15,
   "metadata": {},
   "outputs": [],
   "source": [
    "# obtain document vectors for each document in the train, development and test set\n",
    "X_tr_count = vectorise(X_ngram=tr_text_ngrams, vocab=vocab)\n",
    "X_dev_count = vectorise(X_ngram=dev_text_ngrams, vocab=vocab)\n",
    "X_test_count = vectorise(X_ngram=test_text_ngrams, vocab=vocab)"
   ]
  },
  {
   "cell_type": "code",
   "execution_count": 16,
   "metadata": {},
   "outputs": [
    {
     "data": {
      "text/plain": [
       "array([[ 6.,  8., 20., ...,  0.,  1.,  1.],\n",
       "       [ 2.,  5.,  6., ...,  0.,  0.,  0.],\n",
       "       [ 5.,  4.,  8., ...,  0.,  0.,  0.],\n",
       "       ...,\n",
       "       [ 3.,  2.,  4., ...,  0.,  0.,  0.],\n",
       "       [11.,  7., 11., ...,  0.,  0.,  0.],\n",
       "       [ 2.,  3.,  8., ...,  0.,  0.,  0.]])"
      ]
     },
     "execution_count": 16,
     "metadata": {},
     "output_type": "execute_result"
    }
   ],
   "source": [
    "X_tr_count"
   ]
  },
  {
   "cell_type": "code",
   "execution_count": 17,
   "metadata": {},
   "outputs": [
    {
     "data": {
      "text/plain": [
       "(1400, 5000)"
      ]
     },
     "execution_count": 17,
     "metadata": {},
     "output_type": "execute_result"
    }
   ],
   "source": [
    "X_tr_count.shape"
   ]
  },
  {
   "cell_type": "markdown",
   "metadata": {},
   "source": [
    "#### TF.IDF vectors\n",
    "\n",
    "First compute `idfs` an array containing inverted document frequencies (Note: its elements should correspond to your `vocab`)"
   ]
  },
  {
   "cell_type": "markdown",
   "metadata": {},
   "source": [
    "Then transform your count vectors to tf.idf vectors:"
   ]
  },
  {
   "cell_type": "code",
   "execution_count": 18,
   "metadata": {
    "ExecuteTime": {
     "end_time": "2020-02-15T14:17:42.022692Z",
     "start_time": "2020-02-15T14:17:42.012315Z"
    }
   },
   "outputs": [],
   "source": [
    "# create idf vocabulary dictiongnary for training data\n",
    "vocab_idfs_tr={}\n",
    "for word in vocab:\n",
    "    doc_count=0\n",
    "    for text in tr_text_ngrams:\n",
    "        if word in text:\n",
    "            doc_count+=1\n",
    "    vocab_idfs_tr[word]=np.log((len(tr_text_ngrams)/doc_count))"
   ]
  },
  {
   "cell_type": "code",
   "execution_count": 19,
   "metadata": {},
   "outputs": [],
   "source": [
    "# create idf vocabulary dictiongnary for development data\n",
    "vocab_idfs_dev={}\n",
    "for word in vocab:\n",
    "    doc_count=0\n",
    "    for text in dev_text_ngrams:\n",
    "        if word in text:\n",
    "            doc_count+=1\n",
    "    vocab_idfs_dev[word]=np.log((len(dev_text_ngrams)+1) / (doc_count+1))"
   ]
  },
  {
   "cell_type": "code",
   "execution_count": 20,
   "metadata": {},
   "outputs": [],
   "source": [
    "# create idf vocabulary dictiongnary for test data\n",
    "vocab_idfs_test={}\n",
    "for word in vocab:\n",
    "    doc_count=0\n",
    "    for text in test_text_ngrams:\n",
    "        if word in text:\n",
    "            doc_count+=1\n",
    "    vocab_idfs_test[word]=np.log((len(test_text_ngrams)+1) / (doc_count+1))"
   ]
  },
  {
   "cell_type": "code",
   "execution_count": null,
   "metadata": {},
   "outputs": [],
   "source": []
  },
  {
   "cell_type": "code",
   "execution_count": 21,
   "metadata": {},
   "outputs": [],
   "source": [
    "# For training set, extract tf.idf vectors\n",
    "tfidf_mat=[]\n",
    "for i, word in enumerate(vocab_idfs_tr.keys()):\n",
    "    # get the i column feature value\n",
    "    value = X_tr_count[:,i]\n",
    "    # tf * idf\n",
    "    tfidf = value * vocab_idfs_tr[word]\n",
    "    tfidf_mat.append(tfidf)\n",
    "\n",
    "X_tr_tfidf = np.asarray(tfidf_mat)\n",
    "X_tr_tfidf = np.transpose(X_tr_tfidf)"
   ]
  },
  {
   "cell_type": "code",
   "execution_count": 22,
   "metadata": {},
   "outputs": [],
   "source": [
    "# For development set, extract tf.idf vectors\n",
    "tfidf_mat=[]\n",
    "for i, word in enumerate(vocab_idfs_dev.keys()):\n",
    "    value = X_dev_count[:,i]\n",
    "    tfidf = value * vocab_idfs_dev[word]\n",
    "    tfidf_mat.append(tfidf)\n",
    "\n",
    "X_dev_tfidf = np.asarray(tfidf_mat)\n",
    "X_dev_tfidf = np.transpose(X_dev_tfidf)"
   ]
  },
  {
   "cell_type": "code",
   "execution_count": 23,
   "metadata": {},
   "outputs": [],
   "source": [
    "# For test set, extract tf.idf vectors\n",
    "tfidf_mat=[]\n",
    "for i, word in enumerate(vocab_idfs_test.keys()):\n",
    "    value = X_test_count[:,i]\n",
    "    tfidf = value * vocab_idfs_test[word]\n",
    "    tfidf_mat.append(tfidf)\n",
    "\n",
    "X_test_tfidf = np.asarray(tfidf_mat)\n",
    "X_test_tfidf = np.transpose(X_test_tfidf)"
   ]
  },
  {
   "cell_type": "code",
   "execution_count": 24,
   "metadata": {},
   "outputs": [
    {
     "data": {
      "text/plain": [
       "(1400, 5000)"
      ]
     },
     "execution_count": 24,
     "metadata": {},
     "output_type": "execute_result"
    }
   ],
   "source": [
    "X_tr_tfidf.shape"
   ]
  },
  {
   "cell_type": "code",
   "execution_count": 26,
   "metadata": {},
   "outputs": [
    {
     "data": {
      "text/plain": [
       "array([[0.28974173, 0.92585256, 2.57290779, ..., 0.        , 4.41101417,\n",
       "        4.41101417],\n",
       "       [0.09658058, 0.57865785, 0.77187234, ..., 0.        , 0.        ,\n",
       "        0.        ],\n",
       "       [0.24145145, 0.46292628, 1.02916312, ..., 0.        , 0.        ,\n",
       "        0.        ],\n",
       "       ...,\n",
       "       [0.14487087, 0.23146314, 0.51458156, ..., 0.        , 0.        ,\n",
       "        0.        ],\n",
       "       [0.53119318, 0.81012099, 1.41509928, ..., 0.        , 0.        ,\n",
       "        0.        ],\n",
       "       [0.09658058, 0.34719471, 1.02916312, ..., 0.        , 0.        ,\n",
       "        0.        ]])"
      ]
     },
     "execution_count": 26,
     "metadata": {},
     "output_type": "execute_result"
    }
   ],
   "source": [
    "X_tr_tfidf"
   ]
  },
  {
   "cell_type": "code",
   "execution_count": 27,
   "metadata": {
    "ExecuteTime": {
     "end_time": "2020-02-15T14:17:43.211619Z",
     "start_time": "2020-02-15T14:17:43.207266Z"
    }
   },
   "outputs": [
    {
     "data": {
      "text/plain": [
       "array([0.09658058, 0.57865785, 0.77187234, 0.35893698, 0.90330287,\n",
       "       0.        , 0.51902239, 0.87162991, 0.58299774, 0.88311318,\n",
       "       0.89175457, 1.26667844, 0.65304381, 0.        , 0.74419883,\n",
       "       0.79882407, 0.        , 0.        , 0.83970769, 1.28576258,\n",
       "       0.        , 0.        , 0.94229428, 0.99563077, 0.50489089,\n",
       "       0.52884413, 0.55711891, 2.86730597, 0.590075  , 0.59394847,\n",
       "       0.60043778, 1.20348143, 0.        , 2.45417652, 0.61750977,\n",
       "       0.62149119, 0.        , 0.        , 3.16765735, 0.68178342,\n",
       "       1.3663937 , 0.        , 0.        , 0.70608769, 0.        ,\n",
       "       2.17524068, 0.74444047, 0.74594537, 1.51004517, 0.        ])"
      ]
     },
     "execution_count": 27,
     "metadata": {},
     "output_type": "execute_result"
    }
   ],
   "source": [
    "X_tr_tfidf[1,:50]"
   ]
  },
  {
   "cell_type": "markdown",
   "metadata": {},
   "source": [
    "# Binary Logistic Regression\n",
    "\n",
    "After obtaining vector representations of the data, now you are ready to implement Binary Logistic Regression for classifying sentiment."
   ]
  },
  {
   "cell_type": "markdown",
   "metadata": {},
   "source": [
    "First, you need to implement the `sigmoid` function. It takes as input:\n",
    "\n",
    "- `z`: a real number or an array of real numbers \n",
    "\n",
    "and returns:\n",
    "\n",
    "- `sig`: the sigmoid of `z`"
   ]
  },
  {
   "cell_type": "code",
   "execution_count": 28,
   "metadata": {
    "ExecuteTime": {
     "end_time": "2020-02-15T14:17:44.160661Z",
     "start_time": "2020-02-15T14:17:44.157902Z"
    }
   },
   "outputs": [],
   "source": [
    "def sigmoid(z):\n",
    "    \n",
    "    sig = 1. / (1 + np.exp(-z))\n",
    "    \n",
    "    return sig\n",
    "\n",
    "\n"
   ]
  },
  {
   "cell_type": "code",
   "execution_count": 29,
   "metadata": {},
   "outputs": [
    {
     "name": "stdout",
     "output_type": "stream",
     "text": [
      "0.5\n",
      "[0.00669285 0.76852478]\n"
     ]
    }
   ],
   "source": [
    "print(sigmoid(0)) \n",
    "print(sigmoid(np.array([-5., 1.2])))"
   ]
  },
  {
   "cell_type": "markdown",
   "metadata": {},
   "source": [
    "Then, implement the `predict_proba` function to obtain prediction probabilities. It takes as input:\n",
    "\n",
    "- `X`: an array of inputs, i.e. documents represented by bag-of-ngram vectors ($N \\times |vocab|$)\n",
    "- `weights`: a 1-D array of the model's weights $(1, |vocab|)$\n",
    "\n",
    "and returns:\n",
    "\n",
    "- `preds_proba`: the prediction probabilities of X given the weights"
   ]
  },
  {
   "cell_type": "code",
   "execution_count": 30,
   "metadata": {
    "ExecuteTime": {
     "end_time": "2020-02-15T14:17:44.718566Z",
     "start_time": "2020-02-15T14:17:44.715017Z"
    }
   },
   "outputs": [],
   "source": [
    "def predict_proba(X, weights):\n",
    "    \n",
    "    dot_p = np.dot(X,weights)\n",
    "    preds_proba = sigmoid(dot_p)\n",
    "    \n",
    "    return preds_proba"
   ]
  },
  {
   "cell_type": "markdown",
   "metadata": {},
   "source": [
    "Then, implement the `predict_class` function to obtain the most probable class for each vector in an array of input vectors. It takes as input:\n",
    "\n",
    "- `X`: an array of documents represented by bag-of-ngram vectors ($N \\times |vocab|$)\n",
    "- `weights`: a 1-D array of the model's weights $(1, |vocab|)$\n",
    "\n",
    "and returns:\n",
    "\n",
    "- `preds_class`: the predicted class for each x in X given the weights"
   ]
  },
  {
   "cell_type": "code",
   "execution_count": 31,
   "metadata": {
    "ExecuteTime": {
     "end_time": "2020-02-15T14:17:45.002125Z",
     "start_time": "2020-02-15T14:17:44.998668Z"
    }
   },
   "outputs": [],
   "source": [
    "def predict_class(X, weights):\n",
    "    \n",
    "    proba = predict_proba(X = X, weights = weights)\n",
    "    # if the probability of the class less than 0.5, then the label for this class is 0, otherwise, 1.\n",
    "    proba[proba<0.5]=0\n",
    "    proba[proba>=0.5]=1\n",
    "    preds_class = proba.astype(np.int64)\n",
    "       \n",
    "    return preds_class"
   ]
  },
  {
   "cell_type": "markdown",
   "metadata": {},
   "source": [
    "To learn the weights from data, we need to minimise the binary cross-entropy loss. Implement `binary_loss` that takes as input:\n",
    "\n",
    "- `X`: input vectors\n",
    "- `Y`: labels\n",
    "- `weights`: model weights\n",
    "- `alpha`: regularisation strength\n",
    "\n",
    "and return:\n",
    "\n",
    "- `l`: the loss score"
   ]
  },
  {
   "cell_type": "code",
   "execution_count": 32,
   "metadata": {
    "ExecuteTime": {
     "end_time": "2020-02-15T14:17:45.455533Z",
     "start_time": "2020-02-15T14:17:45.451475Z"
    }
   },
   "outputs": [],
   "source": [
    "def binary_loss(X, Y, weights, alpha=0.00001):\n",
    "    \n",
    "    \n",
    "    y_pred = predict_proba(X = X, weights = weights)\n",
    "    # Clip y_pred between alpha and 1-alpha\n",
    "    y_pred = np.clip(y_pred, alpha, 1-alpha)\n",
    "    loss = - Y * np.log(y_pred) - (1 - Y) * np.log(1-y_pred)\n",
    "    L2_regularization = (alpha/2)*(np.sum(np.square(weights)))\n",
    "    # Use L2 regularisation\n",
    "    l = loss + L2_regularization\n",
    "\n",
    "    return l\n"
   ]
  },
  {
   "cell_type": "markdown",
   "metadata": {},
   "source": [
    "Now, you can implement Stochastic Gradient Descent to learn the weights of your sentiment classifier. The `SGD` function takes as input:\n",
    "\n",
    "- `X_tr`: array of training data (vectors)\n",
    "- `Y_tr`: labels of `X_tr`\n",
    "- `X_dev`: array of development (i.e. validation) data (vectors)\n",
    "- `Y_dev`: labels of `X_dev`\n",
    "- `lr`: learning rate\n",
    "- `alpha`: regularisation strength\n",
    "- `epochs`: number of full passes over the training data\n",
    "- `tolerance`: stop training if the difference between the current and previous validation loss is smaller than a threshold\n",
    "- `print_progress`: flag for printing the training progress (train/validation loss)\n",
    "\n",
    "\n",
    "and returns:\n",
    "\n",
    "- `weights`: the weights learned\n",
    "- `training_loss_history`: an array with the average losses of the whole training set after each epoch\n",
    "- `validation_loss_history`: an array with the average losses of the whole development set after each epoch"
   ]
  },
  {
   "cell_type": "code",
   "execution_count": 49,
   "metadata": {
    "ExecuteTime": {
     "end_time": "2020-02-15T14:17:45.968510Z",
     "start_time": "2020-02-15T14:17:45.958185Z"
    }
   },
   "outputs": [],
   "source": [
    "def SGD(X_tr, Y_tr, X_dev=[], Y_dev=[], lr=0.1, alpha=0.00001, epochs=100, tolerance=0.0001, print_progress=True):\n",
    "    \n",
    "    pre_loss_dev = 10.\n",
    "    training_loss_history = []\n",
    "    validation_loss_history = []\n",
    "    \n",
    "    weights = np.zeros(X_tr.shape[1])\n",
    "    \n",
    "    #Perform multiple epochs over the training data \n",
    "    for i in range(epochs):\n",
    "        #Randomise the order of training data after each epoch\n",
    "        np.random.seed(i)\n",
    "        new_X_tr = np.random.permutation(X_tr)\n",
    "        np.random.seed(i)\n",
    "        new_Y_tr = np.random.permutation(Y_tr)\n",
    "        # The list store training loss for each document.\n",
    "        tr_loss_list = []\n",
    "        for j, X_tr_row in enumerate(new_X_tr):\n",
    "            tr_loss = binary_loss(X = X_tr_row, Y=new_Y_tr[j], weights = weights, alpha=alpha)\n",
    "            tr_loss_list.append(tr_loss)\n",
    "            y_pred = predict_proba(X = X_tr_row, weights = weights)\n",
    "            error = y_pred-new_Y_tr[j]\n",
    "            weights = weights - lr*error*X_tr_row\n",
    "        #get average training loss\n",
    "        aver_tr_loss = np.mean(tr_loss_list)\n",
    "        training_loss_history.append(aver_tr_loss)\n",
    "        #compute validation set loss\n",
    "        valid_loss = binary_loss(X = X_dev, Y=Y_dev, weights = weights, alpha=alpha)\n",
    "        valid_loss = sum(valid_loss)/len(valid_loss)\n",
    "        validation_loss_history.append(valid_loss)\n",
    "        \n",
    "        #After each epoch print the training and development loss\n",
    "        print('Epoch: %d' % i, '| Training loss: %f' % aver_tr_loss, '| Validation loss: %f' % valid_loss)\n",
    "        \n",
    "        #Stop training if the difference between the current and previous validation loss is smaller than tolerance\n",
    "        if (pre_loss_dev-valid_loss)<tolerance:\n",
    "            break\n",
    "        pre_loss_dev = valid_loss\n",
    "\n",
    "    return weights, training_loss_history, validation_loss_history"
   ]
  },
  {
   "cell_type": "markdown",
   "metadata": {},
   "source": [
    "## Train and Evaluate Logistic Regression with Count vectors\n",
    "\n",
    "First train the model using SGD:"
   ]
  },
  {
   "cell_type": "code",
   "execution_count": 34,
   "metadata": {
    "scrolled": true
   },
   "outputs": [
    {
     "name": "stdout",
     "output_type": "stream",
     "text": [
      "Epoch: 0 | Training loss: 0.667093 | Validation loss: 0.648187\n",
      "Epoch: 1 | Training loss: 0.613701 | Validation loss: 0.620114\n",
      "Epoch: 2 | Training loss: 0.575545 | Validation loss: 0.597205\n",
      "Epoch: 3 | Training loss: 0.545176 | Validation loss: 0.575124\n",
      "Epoch: 4 | Training loss: 0.520335 | Validation loss: 0.562594\n",
      "Epoch: 5 | Training loss: 0.499663 | Validation loss: 0.549006\n",
      "Epoch: 6 | Training loss: 0.481563 | Validation loss: 0.537931\n",
      "Epoch: 7 | Training loss: 0.465454 | Validation loss: 0.529435\n",
      "Epoch: 8 | Training loss: 0.451275 | Validation loss: 0.520830\n",
      "Epoch: 9 | Training loss: 0.438504 | Validation loss: 0.513939\n",
      "Epoch: 10 | Training loss: 0.426575 | Validation loss: 0.505659\n",
      "Epoch: 11 | Training loss: 0.415875 | Validation loss: 0.501853\n",
      "Epoch: 12 | Training loss: 0.406412 | Validation loss: 0.494416\n",
      "Epoch: 13 | Training loss: 0.397229 | Validation loss: 0.489247\n",
      "Epoch: 14 | Training loss: 0.388496 | Validation loss: 0.483964\n",
      "Epoch: 15 | Training loss: 0.380787 | Validation loss: 0.479454\n",
      "Epoch: 16 | Training loss: 0.373154 | Validation loss: 0.475763\n",
      "Epoch: 17 | Training loss: 0.366089 | Validation loss: 0.472849\n",
      "Epoch: 18 | Training loss: 0.359430 | Validation loss: 0.468468\n",
      "Epoch: 19 | Training loss: 0.352456 | Validation loss: 0.464239\n",
      "Epoch: 20 | Training loss: 0.347019 | Validation loss: 0.461148\n",
      "Epoch: 21 | Training loss: 0.341035 | Validation loss: 0.459995\n",
      "Epoch: 22 | Training loss: 0.335681 | Validation loss: 0.455324\n",
      "Epoch: 23 | Training loss: 0.330425 | Validation loss: 0.452428\n",
      "Epoch: 24 | Training loss: 0.325092 | Validation loss: 0.450059\n",
      "Epoch: 25 | Training loss: 0.320788 | Validation loss: 0.447273\n",
      "Epoch: 26 | Training loss: 0.315995 | Validation loss: 0.445186\n",
      "Epoch: 27 | Training loss: 0.311371 | Validation loss: 0.444286\n",
      "Epoch: 28 | Training loss: 0.307147 | Validation loss: 0.440620\n",
      "Epoch: 29 | Training loss: 0.302942 | Validation loss: 0.438567\n",
      "Epoch: 30 | Training loss: 0.299131 | Validation loss: 0.436733\n",
      "Epoch: 31 | Training loss: 0.295140 | Validation loss: 0.435648\n",
      "Epoch: 32 | Training loss: 0.291410 | Validation loss: 0.433040\n",
      "Epoch: 33 | Training loss: 0.287561 | Validation loss: 0.431353\n",
      "Epoch: 34 | Training loss: 0.284058 | Validation loss: 0.429758\n",
      "Epoch: 35 | Training loss: 0.280808 | Validation loss: 0.429540\n",
      "Epoch: 36 | Training loss: 0.277696 | Validation loss: 0.427199\n",
      "Epoch: 37 | Training loss: 0.274513 | Validation loss: 0.425268\n",
      "Epoch: 38 | Training loss: 0.271223 | Validation loss: 0.423855\n",
      "Epoch: 39 | Training loss: 0.268385 | Validation loss: 0.423024\n",
      "Epoch: 40 | Training loss: 0.265460 | Validation loss: 0.421410\n",
      "Epoch: 41 | Training loss: 0.262470 | Validation loss: 0.420252\n",
      "Epoch: 42 | Training loss: 0.259608 | Validation loss: 0.419834\n",
      "Epoch: 43 | Training loss: 0.257117 | Validation loss: 0.417726\n",
      "Epoch: 44 | Training loss: 0.254452 | Validation loss: 0.416594\n",
      "Epoch: 45 | Training loss: 0.251744 | Validation loss: 0.415981\n",
      "Epoch: 46 | Training loss: 0.249335 | Validation loss: 0.414784\n",
      "Epoch: 47 | Training loss: 0.246855 | Validation loss: 0.414100\n",
      "Epoch: 48 | Training loss: 0.244396 | Validation loss: 0.412465\n",
      "Epoch: 49 | Training loss: 0.242162 | Validation loss: 0.411534\n",
      "Epoch: 50 | Training loss: 0.239812 | Validation loss: 0.410605\n",
      "Epoch: 51 | Training loss: 0.237590 | Validation loss: 0.410121\n",
      "Epoch: 52 | Training loss: 0.235449 | Validation loss: 0.409201\n",
      "Epoch: 53 | Training loss: 0.233311 | Validation loss: 0.408154\n",
      "Epoch: 54 | Training loss: 0.231189 | Validation loss: 0.407330\n",
      "Epoch: 55 | Training loss: 0.228959 | Validation loss: 0.407256\n"
     ]
    }
   ],
   "source": [
    "w_count, loss_tr_count, dev_loss_count = SGD(X_tr = X_tr_count, Y_tr = train_label, \n",
    "                                             X_dev=X_dev_count, \n",
    "                                             Y_dev=dev_label, \n",
    "                                             lr=0.0001,\n",
    "                                             alpha=0.0001, \n",
    "                                             epochs=100)"
   ]
  },
  {
   "cell_type": "markdown",
   "metadata": {},
   "source": [
    "Now plot the training and validation history per epoch. Does your model underfit, overfit or is it about right? Explain why."
   ]
  },
  {
   "cell_type": "markdown",
   "metadata": {},
   "source": [
    "#### Answer:\n",
    "The model is overfit, because the final loss function value of the training data is much lower than that of the validation data.\n",
    "The reason for this result is over-training the training set data, resulting in local optimization, and the model's generalization ability is not good, so the error rate of the verification set is higher than the training set."
   ]
  },
  {
   "cell_type": "code",
   "execution_count": 35,
   "metadata": {},
   "outputs": [
    {
     "data": {
      "image/png": "[encoded data removed]",
      "text/plain": [
       "<Figure size 432x288 with 1 Axes>"
      ]
     },
     "metadata": {
      "needs_background": "light"
     },
     "output_type": "display_data"
    }
   ],
   "source": [
    "x = np.linspace(0,len(loss_tr_count),len(loss_tr_count))\n",
    "y1, y2 = loss_tr_count, dev_loss_count\n",
    " \n",
    "plt.plot(x, y1,label='Training loss')\n",
    "plt.plot(x, y2, label='Validation loss')\n",
    " \n",
    "plt.title('Training Monitoring')\n",
    "plt.xlabel('Epochs')\n",
    "plt.ylabel('Loss')\n",
    "plt.legend() \n",
    "plt.show()"
   ]
  },
  {
   "cell_type": "markdown",
   "metadata": {},
   "source": [
    "Compute accuracy, precision, recall and F1-scores:"
   ]
  },
  {
   "cell_type": "code",
   "execution_count": 36,
   "metadata": {},
   "outputs": [],
   "source": [
    "def accuracy_score(Y_te,preds_te_count):\n",
    "    \n",
    "    count = 0\n",
    "    for i,label in enumerate(Y_te):\n",
    "        # when the prediction（preds_te_count） and the real label （Y_te）are the same\n",
    "        if preds_te_count[i] == label:\n",
    "            count = count+1\n",
    "            \n",
    "    return count/len(Y_te)"
   ]
  },
  {
   "cell_type": "code",
   "execution_count": 37,
   "metadata": {},
   "outputs": [],
   "source": [
    "def precision_score(Y_te,preds_te_count):\n",
    "    #The numerator is the number of the case where the prediction（preds_te_count） and the real label （Y_te）are both with 1.\n",
    "    num = ((Y_te==1)*(preds_te_count==1)).sum()\n",
    "    # The denominator is the number of the predic tion label is 1.\n",
    "    deno = (preds_te_count==1).sum()\n",
    "    return num/deno\n",
    "\n",
    "def recall_score(Y_te, preds_te_count):\n",
    "    num = ((Y_te==1)*(preds_te_count==1)).sum()\n",
    "    # The denominator is the number of the actual label is 1.\n",
    "    deno = (Y_te==1).sum()\n",
    "    return num/deno\n",
    "\n",
    "def f1_score(Y_te, preds_te_count):\n",
    "    num = 2 * precision_score(Y_te, preds_te_count) * recall_score(Y_te, preds_te_count)\n",
    "    deno = (precision_score(Y_te, preds_te_count) + recall_score(Y_te, preds_te_count))\n",
    "    return num/deno"
   ]
  },
  {
   "cell_type": "code",
   "execution_count": null,
   "metadata": {},
   "outputs": [],
   "source": []
  },
  {
   "cell_type": "code",
   "execution_count": 38,
   "metadata": {
    "ExecuteTime": {
     "end_time": "2020-02-15T14:37:40.569499Z",
     "start_time": "2020-02-15T14:37:40.566796Z"
    }
   },
   "outputs": [
    {
     "name": "stdout",
     "output_type": "stream",
     "text": [
      "Accuracy: 0.8325\n",
      "Precision: 0.8275862068965517\n",
      "Recall: 0.84\n",
      "F1-Score: 0.8337468982630273\n"
     ]
    }
   ],
   "source": [
    "p_class_count = predict_class(X = X_test_count, weights = w_count)\n",
    "Y_te = test_label\n",
    "preds_te_count = p_class_count\n",
    "\n",
    "print('Accuracy:', accuracy_score(Y_te,preds_te_count))\n",
    "print('Precision:', precision_score(Y_te,preds_te_count))\n",
    "print('Recall:', recall_score(Y_te,preds_te_count))\n",
    "print('F1-Score:', f1_score(Y_te,preds_te_count))"
   ]
  },
  {
   "cell_type": "markdown",
   "metadata": {},
   "source": [
    "Finally, print the top-10 words for the negative and positive class respectively."
   ]
  },
  {
   "cell_type": "code",
   "execution_count": 39,
   "metadata": {},
   "outputs": [
    {
     "name": "stdout",
     "output_type": "stream",
     "text": [
      "The top 10 positive words are ['great', 'well', 'also', 'life', 'seen', 'world', 'many', 'fun', 'movies', 'see'] respectively.\n",
      "The top 10 negative words are ['bad', 'only', 'worst', 'plot', 'unfortunately', 'script', 'why', 'any', 'boring', 'nothing'] respectively.\n"
     ]
    }
   ],
   "source": [
    "dic_count = {}\n",
    "for i,weight in enumerate(w_count):\n",
    "    dic_count[vocab[i]] = weight\n",
    "\n",
    "# get positive words\n",
    "dic_count_p = {k:v for k, v in dic_count.items() if v>=0}\n",
    "#order by weights\n",
    "dic_count_p= dict(sorted(dic_count_p.items(), key=lambda x:x[1], reverse=True))\n",
    "# select top 10 words\n",
    "dic_count_p = {k: dic_count_p[k] for k in list(dic_count_p.keys())[:10]}\n",
    "\n",
    "# get negative words\n",
    "dic_count_n = {k:v for k, v in dic_count.items() if v<0}\n",
    "#order by weights\n",
    "dic_count_n= dict(sorted(dic_count_n.items(), key=lambda x:x[1], reverse=False))\n",
    "# select top 10 words\n",
    "dic_count_n = {k: dic_count_n[k] for k in list(dic_count_n.keys())[:10]}\n",
    "\n",
    "print(\"The top 10 positive words are %s respectively.\"% list(dic_count_p.keys()))\n",
    "print(\"The top 10 negative words are %s respectively.\"% list(dic_count_n.keys()))\n"
   ]
  },
  {
   "cell_type": "markdown",
   "metadata": {},
   "source": [
    "Some of the obtained top10 words above have no meaning, such as also, many, any and so on."
   ]
  },
  {
   "cell_type": "markdown",
   "metadata": {},
   "source": [
    "If we were to apply the classifier we've learned into a different domain such laptop reviews or restaurant reviews, do you think these features would generalise well? Can you propose what features the classifier could pick up as important in the new domain?"
   ]
  },
  {
   "cell_type": "markdown",
   "metadata": {},
   "source": [
    "#### Answer:\n",
    "We could use the classifier into a different domain such laptop reviews or restaurant reviews, because there are many adjectives and adverbs that can indicate positive or negative categories, such as 'great' and 'well' for positive features, 'bad', 'worst', 'unfortunately', etc. for negative features, these features would generalise well, so it's suitable in new fields. But there are still some of words doesn't make sense, such as  'also', 'many', etc., it's bug."
   ]
  },
  {
   "cell_type": "markdown",
   "metadata": {},
   "source": [
    "### Discuss how did you choose model hyperparameters (e.g. learning rate and regularisation strength)?"
   ]
  },
  {
   "cell_type": "code",
   "execution_count": 41,
   "metadata": {},
   "outputs": [
    {
     "name": "stdout",
     "output_type": "stream",
     "text": [
      "When lr = 0.001000, alpha = 0.010000;  F1-Score: 0.8286445012787724\n",
      "When lr = 0.001000, alpha = 0.001000;  F1-Score: 0.8286445012787724\n",
      "When lr = 0.001000, alpha = 0.000100;  F1-Score: 0.8286445012787724\n",
      "When lr = 0.000100, alpha = 0.010000;  F1-Score: 0.8320802005012531\n",
      "When lr = 0.000100, alpha = 0.001000;  F1-Score: 0.8337468982630273\n",
      "When lr = 0.000100, alpha = 0.000100;  F1-Score: 0.8337468982630273\n",
      "When lr = 0.000010, alpha = 0.010000;  F1-Score: 0.8148148148148149\n",
      "When lr = 0.000010, alpha = 0.001000;  F1-Score: 0.8148148148148149\n",
      "When lr = 0.000010, alpha = 0.000100;  F1-Score: 0.8148148148148149\n"
     ]
    }
   ],
   "source": [
    "# choose model hyperparameters: learning rate and regularisation strength\n",
    "lr_hyper = [0.001,0.0001,0.00001]\n",
    "alpha_hyper = [0.01,0.001,0.0001]\n",
    "\n",
    "for lr in range(len(lr_hyper)):\n",
    "    for alpha in range(len(alpha_hyper)):\n",
    "        w_count, loss_tr_count, dev_loss_count = SGD(X_tr = X_tr_count, Y_tr = train_label, \n",
    "                                             X_dev=X_dev_count, \n",
    "                                             Y_dev=dev_label, \n",
    "                                             lr=lr_hyper[lr],\n",
    "                                             alpha=alpha_hyper[alpha], \n",
    "                                             epochs=100)\n",
    "        preds = predict_class(X = X_test_count, weights = w_count)\n",
    "        # If test this, we need change `SGD` to comment out that print(add # in front of print, do not print loss), \n",
    "        #then we can just see the results of F1-Score for several hyperparameters.\n",
    "        print('When lr = %f, alpha = %f; '%(lr_hyper[lr],alpha_hyper[alpha]), 'F1-Score:', f1_score(Y_te = test_label, preds_te_count = preds))\n",
    "        "
   ]
  },
  {
   "cell_type": "markdown",
   "metadata": {},
   "source": [
    "From the above results, we can see that when lr = 0.0001 and alpha = 0.001(also 0.0001), the F1-Score value reaches the maximum, 0.8337. As lr continues to increase, the F1-Score value becomes smaller. \n",
    "\n",
    "In general, the learning rate(lr) has a greater impact on model training, while regularisation strength(alpha) has little effect."
   ]
  },
  {
   "cell_type": "markdown",
   "metadata": {},
   "source": [
    "## Train and Evaluate Logistic Regression with TF.IDF vectors\n",
    "\n",
    "Follow the same steps as above (i.e. evaluating count n-gram representations).\n"
   ]
  },
  {
   "cell_type": "code",
   "execution_count": 43,
   "metadata": {
    "scrolled": true
   },
   "outputs": [
    {
     "name": "stdout",
     "output_type": "stream",
     "text": [
      "Epoch: 0 | Training loss: 0.630199 | Validation loss: 0.598519\n",
      "Epoch: 1 | Training loss: 0.492170 | Validation loss: 0.550431\n",
      "Epoch: 2 | Training loss: 0.415312 | Validation loss: 0.519785\n",
      "Epoch: 3 | Training loss: 0.363380 | Validation loss: 0.496656\n",
      "Epoch: 4 | Training loss: 0.325479 | Validation loss: 0.479463\n",
      "Epoch: 5 | Training loss: 0.295740 | Validation loss: 0.465533\n",
      "Epoch: 6 | Training loss: 0.271778 | Validation loss: 0.454433\n",
      "Epoch: 7 | Training loss: 0.251800 | Validation loss: 0.445154\n",
      "Epoch: 8 | Training loss: 0.235133 | Validation loss: 0.437123\n",
      "Epoch: 9 | Training loss: 0.220645 | Validation loss: 0.430326\n",
      "Epoch: 10 | Training loss: 0.207920 | Validation loss: 0.424697\n",
      "Epoch: 11 | Training loss: 0.196915 | Validation loss: 0.419430\n",
      "Epoch: 12 | Training loss: 0.187161 | Validation loss: 0.414936\n",
      "Epoch: 13 | Training loss: 0.178436 | Validation loss: 0.410911\n",
      "Epoch: 14 | Training loss: 0.170506 | Validation loss: 0.407503\n",
      "Epoch: 15 | Training loss: 0.163429 | Validation loss: 0.404300\n",
      "Epoch: 16 | Training loss: 0.156955 | Validation loss: 0.401359\n",
      "Epoch: 17 | Training loss: 0.150996 | Validation loss: 0.398844\n",
      "Epoch: 18 | Training loss: 0.145622 | Validation loss: 0.396521\n",
      "Epoch: 19 | Training loss: 0.140510 | Validation loss: 0.394573\n",
      "Epoch: 20 | Training loss: 0.136036 | Validation loss: 0.392635\n",
      "Epoch: 21 | Training loss: 0.131757 | Validation loss: 0.390830\n",
      "Epoch: 22 | Training loss: 0.127786 | Validation loss: 0.389305\n",
      "Epoch: 23 | Training loss: 0.124113 | Validation loss: 0.387642\n",
      "Epoch: 24 | Training loss: 0.120645 | Validation loss: 0.386029\n",
      "Epoch: 25 | Training loss: 0.117491 | Validation loss: 0.384634\n",
      "Epoch: 26 | Training loss: 0.114470 | Validation loss: 0.383385\n",
      "Epoch: 27 | Training loss: 0.111655 | Validation loss: 0.382273\n",
      "Epoch: 28 | Training loss: 0.109004 | Validation loss: 0.381111\n",
      "Epoch: 29 | Training loss: 0.106501 | Validation loss: 0.380074\n",
      "Epoch: 30 | Training loss: 0.104167 | Validation loss: 0.379176\n",
      "Epoch: 31 | Training loss: 0.101940 | Validation loss: 0.378252\n",
      "Epoch: 32 | Training loss: 0.099842 | Validation loss: 0.377455\n",
      "Epoch: 33 | Training loss: 0.097858 | Validation loss: 0.376728\n",
      "Epoch: 34 | Training loss: 0.095970 | Validation loss: 0.376028\n",
      "Epoch: 35 | Training loss: 0.094180 | Validation loss: 0.375525\n",
      "Epoch: 36 | Training loss: 0.092490 | Validation loss: 0.374897\n",
      "Epoch: 37 | Training loss: 0.090878 | Validation loss: 0.374288\n",
      "Epoch: 38 | Training loss: 0.089342 | Validation loss: 0.373773\n",
      "Epoch: 39 | Training loss: 0.087877 | Validation loss: 0.373345\n",
      "Epoch: 40 | Training loss: 0.086478 | Validation loss: 0.372901\n",
      "Epoch: 41 | Training loss: 0.085150 | Validation loss: 0.372512\n",
      "Epoch: 42 | Training loss: 0.083870 | Validation loss: 0.372182\n",
      "Epoch: 43 | Training loss: 0.082665 | Validation loss: 0.371805\n",
      "Epoch: 44 | Training loss: 0.081505 | Validation loss: 0.371478\n",
      "Epoch: 45 | Training loss: 0.080388 | Validation loss: 0.371239\n",
      "Epoch: 46 | Training loss: 0.079328 | Validation loss: 0.371027\n",
      "Epoch: 47 | Training loss: 0.078308 | Validation loss: 0.370801\n",
      "Epoch: 48 | Training loss: 0.077331 | Validation loss: 0.370531\n",
      "Epoch: 49 | Training loss: 0.076393 | Validation loss: 0.370327\n",
      "Epoch: 50 | Training loss: 0.075499 | Validation loss: 0.370141\n",
      "Epoch: 51 | Training loss: 0.074636 | Validation loss: 0.370017\n",
      "Epoch: 52 | Training loss: 0.073808 | Validation loss: 0.369914\n",
      "Epoch: 53 | Training loss: 0.073010 | Validation loss: 0.369768\n",
      "Epoch: 54 | Training loss: 0.072245 | Validation loss: 0.369650\n",
      "Epoch: 55 | Training loss: 0.071507 | Validation loss: 0.369610\n"
     ]
    }
   ],
   "source": [
    "w_tfidf, trl, devl = SGD(X_tr = X_tr_tfidf, Y_tr = train_label, \n",
    "                         X_dev = X_dev_tfidf, \n",
    "                         Y_dev = dev_label, \n",
    "                         lr=0.0001, \n",
    "                         alpha=0.01, \n",
    "                         epochs=100)"
   ]
  },
  {
   "cell_type": "markdown",
   "metadata": {},
   "source": [
    "Now plot the training and validation history per epoch. Does your model underfit, overfit or is it about right? Explain why."
   ]
  },
  {
   "cell_type": "markdown",
   "metadata": {},
   "source": [
    "#### Answer:\n",
    "The model is overfit, because the final loss function value of the training data is much lower than that of the validation data.\n",
    "The reason for this result is over-training the training set data, resulting in local optimization, and the model's generalization ability is not good, so the error rate of the verification set is higher than the training set."
   ]
  },
  {
   "cell_type": "code",
   "execution_count": 44,
   "metadata": {
    "ExecuteTime": {
     "end_time": "2020-02-15T14:17:54.517668Z",
     "start_time": "2020-02-15T14:17:54.417118Z"
    }
   },
   "outputs": [
    {
     "data": {
      "image/png": "[encoded data removed]",
      "text/plain": [
       "<Figure size 432x288 with 1 Axes>"
      ]
     },
     "metadata": {
      "needs_background": "light"
     },
     "output_type": "display_data"
    }
   ],
   "source": [
    "x = np.linspace(0,len(trl),len(trl))\n",
    "y1, y2 = trl, devl\n",
    " \n",
    "plt.plot(x, y1,label='Training loss')\n",
    "plt.plot(x, y2, label='Validation loss')\n",
    " \n",
    "plt.title('Training Monitoring')\n",
    "plt.xlabel('Epochs')\n",
    "plt.ylabel('Loss')\n",
    "plt.legend() \n",
    "plt.show()"
   ]
  },
  {
   "cell_type": "markdown",
   "metadata": {},
   "source": [
    "Compute accuracy, precision, recall and F1-scores:"
   ]
  },
  {
   "cell_type": "code",
   "execution_count": 45,
   "metadata": {
    "ExecuteTime": {
     "end_time": "2020-02-15T14:37:56.489814Z",
     "start_time": "2020-02-15T14:37:56.487014Z"
    }
   },
   "outputs": [
    {
     "name": "stdout",
     "output_type": "stream",
     "text": [
      "Accuracy: 0.8675\n",
      "Precision: 0.855072463768116\n",
      "Recall: 0.885\n",
      "F1-Score: 0.8697788697788698\n"
     ]
    }
   ],
   "source": [
    "p_class_tfidf = predict_class(X = X_test_tfidf, weights = w_tfidf)\n",
    "Y_te = test_label\n",
    "preds_te_tfidf = p_class_tfidf\n",
    "\n",
    "print('Accuracy:', accuracy_score(Y_te,preds_te_tfidf))\n",
    "print('Precision:', precision_score(Y_te,preds_te_tfidf))\n",
    "print('Recall:', recall_score(Y_te,preds_te_tfidf))\n",
    "print('F1-Score:', f1_score(Y_te,preds_te_tfidf))"
   ]
  },
  {
   "cell_type": "markdown",
   "metadata": {},
   "source": [
    "Print top-10 most positive and negative words:"
   ]
  },
  {
   "cell_type": "code",
   "execution_count": 46,
   "metadata": {
    "ExecuteTime": {
     "end_time": "2020-02-15T14:38:17.845485Z",
     "start_time": "2020-02-15T14:38:17.842557Z"
    }
   },
   "outputs": [
    {
     "name": "stdout",
     "output_type": "stream",
     "text": [
      "The top 10 positive words are ['great', 'hilarious', 'fun', 'overall', 'terrific', 'perfectly', 'definitely', 'memorable', 'simple', 'seen'] respectively.\n",
      "The top 10 negative words are ['bad', 'worst', 'boring', 'supposed', 'unfortunately', 'waste', 'awful', 'poor', 'script', 'nothing'] respectively.\n"
     ]
    }
   ],
   "source": [
    "dic_tfidf = {}\n",
    "for i,weight in enumerate(w_tfidf):\n",
    "    dic_tfidf[vocab[i]] = weight\n",
    "\n",
    "# get positive words\n",
    "dic_tfidf_p = {k:v for k, v in dic_tfidf.items() if v>=0}\n",
    "#order by weights\n",
    "dic_tfidf_p= dict(sorted(dic_tfidf_p.items(), key=lambda x:x[1], reverse=True))\n",
    "# select top 10 words\n",
    "dic_tfidf_p = {k: dic_tfidf_p[k] for k in list(dic_tfidf_p.keys())[:10]}\n",
    "\n",
    "# get negative words\n",
    "dic_tfidf_n = {k:v for k, v in dic_tfidf.items() if v<0}\n",
    "#order by weights\n",
    "dic_tfidf_n= dict(sorted(dic_tfidf_n.items(), key=lambda x:x[1], reverse=False))\n",
    "# select top 10 words\n",
    "dic_tfidf_n = {k: dic_tfidf_n[k] for k in list(dic_tfidf_n.keys())[:10]}\n",
    "\n",
    "print(\"The top 10 positive words are %s respectively.\"% list(dic_tfidf_p.keys()))\n",
    "print(\"The top 10 negative words are %s respectively.\"% list(dic_tfidf_n.keys()))\n"
   ]
  },
  {
   "cell_type": "markdown",
   "metadata": {},
   "source": [
    "If we were to apply the classifier we've learned into a different domain such laptop reviews or restaurant reviews, do you think these features would generalise well? Can you propose what features the classifier could pick up as important in the new domain?"
   ]
  },
  {
   "cell_type": "markdown",
   "metadata": {},
   "source": [
    "#### Answer:\n",
    "We could use the classifier into a different domain such laptop reviews or restaurant reviews, because there are many adjectives and adverbs that can indicate positive or negative categories, such as 'great', 'hilarious', 'perfectly', etc. for positive features, 'bad', 'boring', 'unfortunately', etc. for negative features, these features would generalise well, so it's suitable in new fields."
   ]
  },
  {
   "cell_type": "markdown",
   "metadata": {},
   "source": [
    "### Discuss how did you choose model hyperparameters (e.g. learning rate and regularisation strength)? What is the relation between training epochs and learning rate? How the regularisation strength affects performance?"
   ]
  },
  {
   "cell_type": "code",
   "execution_count": 48,
   "metadata": {},
   "outputs": [
    {
     "name": "stdout",
     "output_type": "stream",
     "text": [
      "When lr = 0.001000, alpha = 0.010000;  F1-Score: 0.8627450980392156\n",
      "When lr = 0.001000, alpha = 0.001000;  F1-Score: 0.8627450980392156\n",
      "When lr = 0.001000, alpha = 0.000100;  F1-Score: 0.8627450980392156\n",
      "When lr = 0.000100, alpha = 0.010000;  F1-Score: 0.8697788697788698\n",
      "When lr = 0.000100, alpha = 0.001000;  F1-Score: 0.8669950738916256\n",
      "When lr = 0.000100, alpha = 0.000100;  F1-Score: 0.8641975308641976\n",
      "When lr = 0.000010, alpha = 0.010000;  F1-Score: 0.8669950738916256\n",
      "When lr = 0.000010, alpha = 0.001000;  F1-Score: 0.8669950738916256\n",
      "When lr = 0.000010, alpha = 0.000100;  F1-Score: 0.8669950738916256\n"
     ]
    }
   ],
   "source": [
    "# choose model hyperparameters: learning rate and regularisation strength\n",
    "lr_hyper = [0.001,0.0001,0.00001]\n",
    "alpha_hyper = [0.01,0.001,0.0001]\n",
    "\n",
    "for lr in range(len(lr_hyper)):\n",
    "    for alpha in range(len(alpha_hyper)):\n",
    "        w_tfidf, trl, devl = SGD(X_tr = X_tr_tfidf, Y_tr = train_label, \n",
    "                                             X_dev=X_dev_tfidf, \n",
    "                                             Y_dev=dev_label, \n",
    "                                             lr=lr_hyper[lr],\n",
    "                                             alpha=alpha_hyper[alpha], \n",
    "                                             epochs=100)\n",
    "        preds = predict_class(X = X_test_tfidf, weights = w_tfidf)\n",
    "        # If test this, we need change `SGD` to comment out that print(add # in front of print, do not print loss), \n",
    "        #then we can just see the results of F1-Score for several hyperparameters.\n",
    "        print('When lr = %f, alpha = %f; '%(lr_hyper[lr],alpha_hyper[alpha]), 'F1-Score:', f1_score(Y_te = test_label, preds_te_count = preds))\n",
    "        \n",
    "\n",
    "        "
   ]
  },
  {
   "cell_type": "markdown",
   "metadata": {},
   "source": [
    "From the above results, we can see that when lr = 0.00001, the F1-Score value is the maximum, 0.8669, in this case, the value of alpha have no effect on the F1-Score value.\n",
    "\n",
    "In general, the learning rate(lr) has a greater impact on model training, while regularisation strength(alpha) has little effect.\n",
    "\n",
    "When training the model, if the learning rate is reduced, the gradient descent rate will be slower and the model's convergence rate will also be slower, so in general, the number of training epochs required should  be increased to achieve the purpose of sufficient model convergence.\n",
    "\n",
    "Regularization can always improve generalization and help prevent overfitting."
   ]
  },
  {
   "cell_type": "markdown",
   "metadata": {},
   "source": [
    "\n",
    "\n",
    "## Full Results\n",
    "\n",
    "Add here your results:\n",
    "\n",
    "| LR | Precision  | Recall  | F1-Score  |\n",
    "|:-:|:-:|:-:|:-:|\n",
    "| BOW-count  | 0.827 | 0.840 | 0.833 |\n",
    "| BOW-tfidf  | 0.855 | 0.885 |  0.869 |\n"
   ]
  },
  {
   "cell_type": "markdown",
   "metadata": {},
   "source": [
    "# Multi-class Logistic Regression \n",
    "\n",
    "Now you need to train a Multiclass Logistic Regression (MLR) Classifier by extending the Binary model you developed above. You will use the MLR model to perform topic classification on the AG news dataset consisting of three classes:"
   ]
  },
  {
   "cell_type": "markdown",
   "metadata": {},
   "source": [
    "- Class 1: World\n",
    "- Class 2: Sports\n",
    "- Class 3: Business"
   ]
  },
  {
   "cell_type": "markdown",
   "metadata": {},
   "source": [
    "You need to follow the same process as in Task 1 for data processing and feature extraction by reusing the functions you wrote."
   ]
  },
  {
   "cell_type": "code",
   "execution_count": 50,
   "metadata": {
    "ExecuteTime": {
     "end_time": "2020-02-15T14:18:03.212229Z",
     "start_time": "2020-02-15T14:18:03.185261Z"
    }
   },
   "outputs": [],
   "source": [
    "# load the training, development and test sets\n",
    "data_tr = pd.read_csv('data_topic/train.csv',header=None, names=['label','text'])\n",
    "data_dev = pd.read_csv('data_topic/dev.csv',header=None, names=['label','text'])\n",
    "data_test = pd.read_csv('data_topic/test.csv',header=None, names=['label','text'])"
   ]
  },
  {
   "cell_type": "code",
   "execution_count": 51,
   "metadata": {
    "ExecuteTime": {
     "end_time": "2020-02-15T14:18:03.515585Z",
     "start_time": "2020-02-15T14:18:03.508299Z"
    }
   },
   "outputs": [
    {
     "data": {
      "text/html": [
       "<div>\n",
       "<style scoped>\n",
       "    .dataframe tbody tr th:only-of-type {\n",
       "        vertical-align: middle;\n",
       "    }\n",
       "\n",
       "    .dataframe tbody tr th {\n",
       "        vertical-align: top;\n",
       "    }\n",
       "\n",
       "    .dataframe thead th {\n",
       "        text-align: right;\n",
       "    }\n",
       "</style>\n",
       "<table border=\"1\" class=\"dataframe\">\n",
       "  <thead>\n",
       "    <tr style=\"text-align: right;\">\n",
       "      <th></th>\n",
       "      <th>label</th>\n",
       "      <th>text</th>\n",
       "    </tr>\n",
       "  </thead>\n",
       "  <tbody>\n",
       "    <tr>\n",
       "      <th>0</th>\n",
       "      <td>1</td>\n",
       "      <td>Reuters - Venezuelans turned out early\\and in ...</td>\n",
       "    </tr>\n",
       "    <tr>\n",
       "      <th>1</th>\n",
       "      <td>1</td>\n",
       "      <td>Reuters - South Korean police used water canno...</td>\n",
       "    </tr>\n",
       "    <tr>\n",
       "      <th>2</th>\n",
       "      <td>1</td>\n",
       "      <td>Reuters - Thousands of Palestinian\\prisoners i...</td>\n",
       "    </tr>\n",
       "    <tr>\n",
       "      <th>3</th>\n",
       "      <td>1</td>\n",
       "      <td>AFP - Sporadic gunfire and shelling took place...</td>\n",
       "    </tr>\n",
       "    <tr>\n",
       "      <th>4</th>\n",
       "      <td>1</td>\n",
       "      <td>AP - Dozens of Rwandan soldiers flew into Suda...</td>\n",
       "    </tr>\n",
       "  </tbody>\n",
       "</table>\n",
       "</div>"
      ],
      "text/plain": [
       "   label                                               text\n",
       "0      1  Reuters - Venezuelans turned out early\\and in ...\n",
       "1      1  Reuters - South Korean police used water canno...\n",
       "2      1  Reuters - Thousands of Palestinian\\prisoners i...\n",
       "3      1  AFP - Sporadic gunfire and shelling took place...\n",
       "4      1  AP - Dozens of Rwandan soldiers flew into Suda..."
      ]
     },
     "execution_count": 51,
     "metadata": {},
     "output_type": "execute_result"
    }
   ],
   "source": [
    "data_tr.head()"
   ]
  },
  {
   "cell_type": "code",
   "execution_count": 52,
   "metadata": {},
   "outputs": [],
   "source": [
    "# put the raw texts into Python lists\n",
    "train_text = [x.lower() for x in data_tr['text'].tolist()] \n",
    "dev_text = [x.lower() for x in data_dev['text'].tolist()] \n",
    "test_text = [x.lower() for x in data_test['text'].tolist()]\n",
    "\n",
    "# put their corresponding labels into NumPy arrays\n",
    "train_label = np.array(data_tr['label'])\n",
    "dev_label = np.array(data_dev['label'])\n",
    "test_label = np.array(data_test['label'])"
   ]
  },
  {
   "cell_type": "markdown",
   "metadata": {},
   "source": [
    "###  N-gram extraction from the above document"
   ]
  },
  {
   "cell_type": "code",
   "execution_count": 53,
   "metadata": {},
   "outputs": [],
   "source": [
    "tr_x_mul, tr_text_ngrams_mul = extract_ngrams(x_raw = train_text, stop_words=stop_words)\n",
    "dev_x_mul, dev_text_ngrams_mul = extract_ngrams(x_raw = dev_text, stop_words=stop_words)\n",
    "test_x_mul, test_text_ngrams_mul = extract_ngrams(x_raw = test_text, stop_words=stop_words)"
   ]
  },
  {
   "cell_type": "markdown",
   "metadata": {},
   "source": [
    "Now using `get_vocab` to create your vocabulary and get document and raw frequencies of n-grams:"
   ]
  },
  {
   "cell_type": "code",
   "execution_count": 54,
   "metadata": {},
   "outputs": [],
   "source": [
    "vocab_mul, tr_df_mul, tr_ngram_counts_mul = get_vocab(X_raw=train_text, ngram_range=(1,3), keep_topN=5000, stop_words=stop_words)"
   ]
  },
  {
   "cell_type": "markdown",
   "metadata": {},
   "source": [
    "#### Count vectors"
   ]
  },
  {
   "cell_type": "code",
   "execution_count": 55,
   "metadata": {},
   "outputs": [],
   "source": [
    "X_tr_count_mul = vectorise(X_ngram=tr_text_ngrams_mul, vocab=vocab_mul)\n",
    "X_dev_count_mul = vectorise(X_ngram=dev_text_ngrams_mul, vocab=vocab_mul)\n",
    "X_test_count_mul = vectorise(X_ngram=test_text_ngrams_mul, vocab=vocab_mul)"
   ]
  },
  {
   "cell_type": "code",
   "execution_count": 56,
   "metadata": {},
   "outputs": [
    {
     "data": {
      "text/plain": [
       "array([[1., 0., 0., ..., 0., 0., 0.],\n",
       "       [1., 0., 0., ..., 0., 0., 0.],\n",
       "       [1., 1., 0., ..., 0., 0., 0.],\n",
       "       ...,\n",
       "       [2., 1., 0., ..., 0., 0., 0.],\n",
       "       [0., 0., 0., ..., 0., 0., 0.],\n",
       "       [0., 0., 0., ..., 0., 0., 0.]])"
      ]
     },
     "execution_count": 56,
     "metadata": {},
     "output_type": "execute_result"
    }
   ],
   "source": [
    "X_tr_count_mul"
   ]
  },
  {
   "cell_type": "code",
   "execution_count": 57,
   "metadata": {},
   "outputs": [
    {
     "data": {
      "text/plain": [
       "(2400, 5000)"
      ]
     },
     "execution_count": 57,
     "metadata": {},
     "output_type": "execute_result"
    }
   ],
   "source": [
    "X_tr_count_mul.shape"
   ]
  },
  {
   "cell_type": "code",
   "execution_count": 58,
   "metadata": {},
   "outputs": [
    {
     "data": {
      "text/plain": [
       "(150, 5000)"
      ]
     },
     "execution_count": 58,
     "metadata": {},
     "output_type": "execute_result"
    }
   ],
   "source": [
    "X_dev_count_mul.shape"
   ]
  },
  {
   "cell_type": "markdown",
   "metadata": {},
   "source": [
    "#### TF.IDF vectors"
   ]
  },
  {
   "cell_type": "code",
   "execution_count": 59,
   "metadata": {},
   "outputs": [],
   "source": [
    "# get idf vocabulary dictiongnary for training data\n",
    "vocab_idfs_tr_mul={}\n",
    "for word in vocab_mul:\n",
    "    doc_count=0\n",
    "    for text in tr_text_ngrams_mul:\n",
    "        if word in text:\n",
    "            doc_count+=1\n",
    "    vocab_idfs_tr_mul[word]=np.log((len(tr_text_ngrams_mul)/doc_count))"
   ]
  },
  {
   "cell_type": "code",
   "execution_count": 60,
   "metadata": {},
   "outputs": [],
   "source": [
    "# get idf vocabulary dictiongnary for development data\n",
    "vocab_idfs_dev_mul={}\n",
    "for word in vocab_mul:\n",
    "    doc_count=0\n",
    "    for text in dev_text_ngrams_mul:\n",
    "        if word in text:\n",
    "            doc_count+=1\n",
    "    vocab_idfs_dev_mul[word]=np.log((len(dev_text_ngrams_mul)+1) / (doc_count+1))"
   ]
  },
  {
   "cell_type": "code",
   "execution_count": 61,
   "metadata": {},
   "outputs": [],
   "source": [
    "# get idf vocabulary dictiongnary for test data\n",
    "vocab_idfs_test_mul={}\n",
    "for word in vocab_mul:\n",
    "    doc_count=0\n",
    "    for text in test_text_ngrams_mul:\n",
    "        if word in text:\n",
    "            doc_count+=1\n",
    "    vocab_idfs_test_mul[word]=np.log((len(test_text_ngrams_mul)+1) / (doc_count+1))"
   ]
  },
  {
   "cell_type": "code",
   "execution_count": 62,
   "metadata": {},
   "outputs": [],
   "source": [
    "# For training set, extract tf.idf vectors\n",
    "tfidf_mat=[]\n",
    "for i, word in enumerate(vocab_idfs_tr_mul.keys()):\n",
    "    value = X_tr_count_mul[:,i]\n",
    "    tfidf = value * vocab_idfs_tr_mul[word]\n",
    "    tfidf_mat.append(tfidf)\n",
    "\n",
    "X_tr_tfidf_mul = np.asarray(tfidf_mat)\n",
    "X_tr_tfidf_mul = np.transpose(X_tr_tfidf_mul)"
   ]
  },
  {
   "cell_type": "code",
   "execution_count": 63,
   "metadata": {},
   "outputs": [
    {
     "data": {
      "text/plain": [
       "array([[1.33591815, 0.        , 0.        , ..., 0.        , 0.        ,\n",
       "        0.        ],\n",
       "       [1.33591815, 0.        , 0.        , ..., 0.        , 0.        ,\n",
       "        0.        ],\n",
       "       [1.33591815, 1.71479843, 0.        , ..., 0.        , 0.        ,\n",
       "        0.        ],\n",
       "       ...,\n",
       "       [2.67183631, 1.71479843, 0.        , ..., 0.        , 0.        ,\n",
       "        0.        ],\n",
       "       [0.        , 0.        , 0.        , ..., 0.        , 0.        ,\n",
       "        0.        ],\n",
       "       [0.        , 0.        , 0.        , ..., 0.        , 0.        ,\n",
       "        0.        ]])"
      ]
     },
     "execution_count": 63,
     "metadata": {},
     "output_type": "execute_result"
    }
   ],
   "source": [
    "X_tr_tfidf_mul"
   ]
  },
  {
   "cell_type": "code",
   "execution_count": 64,
   "metadata": {},
   "outputs": [],
   "source": [
    "# For development set, extract tf.idf vectors\n",
    "tfidf_mat=[]\n",
    "for i, word in enumerate(vocab_idfs_dev_mul.keys()):\n",
    "    value = X_dev_count_mul[:,i]\n",
    "    tfidf = value * vocab_idfs_dev_mul[word]\n",
    "    tfidf_mat.append(tfidf)\n",
    "\n",
    "X_dev_tfidf_mul = np.asarray(tfidf_mat)\n",
    "X_dev_tfidf_mul = np.transpose(X_dev_tfidf_mul)"
   ]
  },
  {
   "cell_type": "code",
   "execution_count": 65,
   "metadata": {},
   "outputs": [],
   "source": [
    "# For test set, extract tf.idf vectors\n",
    "tfidf_mat=[]\n",
    "for i, word in enumerate(vocab_idfs_test_mul.keys()):\n",
    "    value = X_test_count_mul[:,i]\n",
    "    tfidf = value * vocab_idfs_test_mul[word]\n",
    "    tfidf_mat.append(tfidf)\n",
    "\n",
    "X_test_tfidf_mul = np.asarray(tfidf_mat)\n",
    "X_test_tfidf_mul = np.transpose(X_test_tfidf_mul)"
   ]
  },
  {
   "cell_type": "markdown",
   "metadata": {},
   "source": [
    "Now you need to change `SGD` to support multiclass datasets. First you need to develop a `softmax` function. It takes as input:\n",
    "\n",
    "- `z`: array of real numbers \n",
    "\n",
    "and returns:\n",
    "\n",
    "- `smax`: the softmax of `z`"
   ]
  },
  {
   "cell_type": "code",
   "execution_count": 66,
   "metadata": {},
   "outputs": [],
   "source": [
    "def softmax(z):\n",
    "    x_exp = np.exp(z)\n",
    "    # If it is a one-dimensional array, then axis = 0, otherwise, axis = 1.\n",
    "    if len(z.shape) >1:\n",
    "        x_sum = np.sum(x_exp, axis = 1, keepdims = True)\n",
    "    else:\n",
    "        x_sum = np.sum(x_exp, axis = 0)\n",
    "    smax = x_exp / x_sum    \n",
    "    return smax"
   ]
  },
  {
   "cell_type": "markdown",
   "metadata": {},
   "source": [
    "Then modify `predict_proba` and `predict_class` functions for the multiclass case:"
   ]
  },
  {
   "cell_type": "code",
   "execution_count": 67,
   "metadata": {
    "ExecuteTime": {
     "end_time": "2020-02-15T14:18:07.445451Z",
     "start_time": "2020-02-15T14:18:07.442851Z"
    }
   },
   "outputs": [],
   "source": [
    "def predict_proba(X, weights):\n",
    "    \n",
    "    dot_p = np.dot(X,weights.T)\n",
    "    preds_proba = softmax(dot_p)\n",
    "    \n",
    "    return preds_proba"
   ]
  },
  {
   "cell_type": "code",
   "execution_count": 68,
   "metadata": {
    "ExecuteTime": {
     "end_time": "2020-02-15T14:18:07.449814Z",
     "start_time": "2020-02-15T14:18:07.447145Z"
    }
   },
   "outputs": [],
   "source": [
    "def predict_class(X, weights):\n",
    "    \n",
    "    proba = predict_proba(X = X, weights = weights)\n",
    "    if len(proba.shape) >1:\n",
    "        label_list = []\n",
    "        for row in proba:\n",
    "            row[row == max(row)] = 1\n",
    "            for i,value in enumerate(row):\n",
    "                if value == 1:\n",
    "                    label = i+1\n",
    "                    label_list.append(label)\n",
    "                    break;\n",
    "        preds_class = np.asarray(label_list)\n",
    "    else:\n",
    "        proba[proba == max(proba)] = 1\n",
    "        for i,value in enumerate(proba):\n",
    "            if value == 1:\n",
    "                preds_class = i+1\n",
    "                break;\n",
    "    \n",
    "    return preds_class"
   ]
  },
  {
   "cell_type": "markdown",
   "metadata": {},
   "source": [
    "Toy example and expected functionality of the functions above:"
   ]
  },
  {
   "cell_type": "code",
   "execution_count": 69,
   "metadata": {
    "ExecuteTime": {
     "end_time": "2020-02-15T14:18:08.059902Z",
     "start_time": "2020-02-15T14:18:08.056774Z"
    }
   },
   "outputs": [],
   "source": [
    "X = np.array([[0.1,0.2],[0.2,0.1],[0.1,-0.2]])\n",
    "w = np.array([[2,-5],[-5,2]])"
   ]
  },
  {
   "cell_type": "code",
   "execution_count": 70,
   "metadata": {
    "ExecuteTime": {
     "end_time": "2020-02-15T14:18:08.495464Z",
     "start_time": "2020-02-15T14:18:08.491074Z"
    }
   },
   "outputs": [
    {
     "data": {
      "text/plain": [
       "array([[0.33181223, 0.66818777],\n",
       "       [0.66818777, 0.33181223],\n",
       "       [0.89090318, 0.10909682]])"
      ]
     },
     "execution_count": 70,
     "metadata": {},
     "output_type": "execute_result"
    }
   ],
   "source": [
    "predict_proba(X, w)"
   ]
  },
  {
   "cell_type": "code",
   "execution_count": 71,
   "metadata": {
    "ExecuteTime": {
     "end_time": "2020-02-15T14:18:08.714215Z",
     "start_time": "2020-02-15T14:18:08.710098Z"
    }
   },
   "outputs": [
    {
     "data": {
      "text/plain": [
       "array([2, 1, 1])"
      ]
     },
     "execution_count": 71,
     "metadata": {},
     "output_type": "execute_result"
    }
   ],
   "source": [
    "predict_class(X, w)"
   ]
  },
  {
   "cell_type": "markdown",
   "metadata": {},
   "source": [
    "Now you need to compute the categorical cross entropy loss (extending the binary loss to support multiple classes)."
   ]
  },
  {
   "cell_type": "code",
   "execution_count": 72,
   "metadata": {
    "ExecuteTime": {
     "end_time": "2020-02-15T14:30:48.047338Z",
     "start_time": "2020-02-15T14:30:48.044395Z"
    }
   },
   "outputs": [],
   "source": [
    "def categorical_loss(X, Y, weights, num_classes=3, alpha=0.00001):\n",
    "    \n",
    "    y_pred = predict_proba(X = X, weights = weights)\n",
    "    #Clip y_pred between alpha and 1-alpha\n",
    "    y_pred = np.clip(y_pred, alpha, 1-alpha)\n",
    "    # If there are more than one document for input X\n",
    "    if len(X.shape) > 1:\n",
    "        loss = -np.log(y_pred[range(len(Y)),Y-1])\n",
    "    else:\n",
    "        loss = -np.log(y_pred[Y-1])\n",
    "    # Use L2 regularisation\n",
    "    L2_regularization = (alpha/2)*(np.sum(np.square(weights)))\n",
    "    l = loss + L2_regularization\n",
    "    \n",
    "    return l\n",
    "    "
   ]
  },
  {
   "cell_type": "markdown",
   "metadata": {},
   "source": [
    "Convert vector to onehot form"
   ]
  },
  {
   "cell_type": "code",
   "execution_count": 73,
   "metadata": {},
   "outputs": [],
   "source": [
    "def onehot(X,class_nums):\n",
    "    \n",
    "    array = np.eye(class_nums+1)[X]\n",
    "    \n",
    "    return np.delete(array,0,axis=1)"
   ]
  },
  {
   "cell_type": "markdown",
   "metadata": {
    "ExecuteTime": {
     "end_time": "2020-02-15T14:08:59.937442Z",
     "start_time": "2020-02-15T14:08:59.932221Z"
    }
   },
   "source": [
    "Finally you need to modify SGD to support the categorical cross entropy loss:"
   ]
  },
  {
   "cell_type": "code",
   "execution_count": 88,
   "metadata": {
    "ExecuteTime": {
     "end_time": "2020-02-15T14:18:10.176885Z",
     "start_time": "2020-02-15T14:18:10.165021Z"
    }
   },
   "outputs": [],
   "source": [
    "def SGD(X_tr, Y_tr, X_dev=[], Y_dev=[], num_classes=3, lr=0.01, alpha=0.00001, epochs=5, tolerance=0.0001, print_progress=True):\n",
    "    \n",
    "    pre_loss_dev = 10.\n",
    "    training_loss_history = []\n",
    "    validation_loss_history = []\n",
    "    \n",
    "    weights = np.zeros((3, X_tr.shape[1]))\n",
    "    #convert train set label Y_tr to onehot\n",
    "    Y_tr_onehot = onehot(X = Y_tr,class_nums = num_classes)\n",
    "    \n",
    "    #Perform multiple epochs over the training data \n",
    "    for i in range(epochs):\n",
    "        #Randomise the order of training data after each epoch\n",
    "        np.random.seed(i)\n",
    "        new_X_tr = np.random.permutation(X_tr)\n",
    "        np.random.seed(i)\n",
    "        new_Y_tr = np.random.permutation(Y_tr)\n",
    "        np.random.seed(i)\n",
    "        new_Y_tr_onehot = np.random.permutation(Y_tr_onehot)\n",
    "        tr_loss_list = [] # The list store training loss for each document.\n",
    "        for j, X_tr_row in enumerate(new_X_tr):\n",
    "            tr_loss = categorical_loss(X = X_tr_row, Y=new_Y_tr[j], weights = weights, alpha=alpha)\n",
    "            tr_loss_list.append(tr_loss)\n",
    "            y_pred = predict_proba(X = X_tr_row, weights = weights)\n",
    "            error = y_pred - new_Y_tr_onehot[j]\n",
    "            #upgrade weights\n",
    "            weights_list = []\n",
    "            for n in range(num_classes):\n",
    "                weights_row = weights[n] - lr*X_tr_row*error[n]\n",
    "                weights_list.append(weights_row)\n",
    "            weights = np.asarray(weights_list)\n",
    "            \n",
    "        #get average training loss\n",
    "        aver_tr_loss = np.mean(tr_loss_list)\n",
    "        training_loss_history.append(aver_tr_loss)\n",
    "        \n",
    "        #compute validation set loss\n",
    "        valid_loss = categorical_loss(X = X_dev, Y=Y_dev, weights = weights, alpha=alpha)\n",
    "        valid_loss = sum(valid_loss)/len(valid_loss)\n",
    "        validation_loss_history.append(valid_loss)\n",
    "        \n",
    "        #After each epoch print the training and development loss\n",
    "        print('Epoch: %d' % i, '| Training loss: %f' % aver_tr_loss, '| Validation loss: %f' % valid_loss)\n",
    "        \n",
    "        #Stop training if the difference between the current and previous validation loss is smaller than tolerance\n",
    "        if (pre_loss_dev-valid_loss)<tolerance:\n",
    "            break\n",
    "        pre_loss_dev = valid_loss\n",
    "\n",
    "    return weights, training_loss_history, validation_loss_history"
   ]
  },
  {
   "cell_type": "markdown",
   "metadata": {
    "ExecuteTime": {
     "end_time": "2020-02-15T14:10:15.772383Z",
     "start_time": "2020-02-15T14:10:15.767855Z"
    }
   },
   "source": [
    "Now you are ready to train and evaluate you MLR following the same steps as in Task 1 for both Count and tfidf features:"
   ]
  },
  {
   "cell_type": "code",
   "execution_count": 75,
   "metadata": {
    "scrolled": true
   },
   "outputs": [
    {
     "name": "stdout",
     "output_type": "stream",
     "text": [
      "Epoch: 0 | Training loss: 0.990924 | Validation loss: 0.978116\n",
      "Epoch: 1 | Training loss: 0.840919 | Validation loss: 0.896250\n",
      "Epoch: 2 | Training loss: 0.748140 | Validation loss: 0.834814\n",
      "Epoch: 3 | Training loss: 0.682860 | Validation loss: 0.786755\n",
      "Epoch: 4 | Training loss: 0.633647 | Validation loss: 0.748075\n",
      "Epoch: 5 | Training loss: 0.594811 | Validation loss: 0.716139\n",
      "Epoch: 6 | Training loss: 0.563061 | Validation loss: 0.689248\n",
      "Epoch: 7 | Training loss: 0.536481 | Validation loss: 0.666249\n",
      "Epoch: 8 | Training loss: 0.513770 | Validation loss: 0.646323\n",
      "Epoch: 9 | Training loss: 0.494028 | Validation loss: 0.628842\n",
      "Epoch: 10 | Training loss: 0.476689 | Validation loss: 0.613415\n",
      "Epoch: 11 | Training loss: 0.461262 | Validation loss: 0.599666\n",
      "Epoch: 12 | Training loss: 0.447425 | Validation loss: 0.587299\n",
      "Epoch: 13 | Training loss: 0.434920 | Validation loss: 0.576119\n",
      "Epoch: 14 | Training loss: 0.423530 | Validation loss: 0.565949\n",
      "Epoch: 15 | Training loss: 0.413118 | Validation loss: 0.556682\n",
      "Epoch: 16 | Training loss: 0.403533 | Validation loss: 0.548226\n",
      "Epoch: 17 | Training loss: 0.394681 | Validation loss: 0.540351\n",
      "Epoch: 18 | Training loss: 0.386464 | Validation loss: 0.533054\n",
      "Epoch: 19 | Training loss: 0.378835 | Validation loss: 0.526341\n",
      "Epoch: 20 | Training loss: 0.371688 | Validation loss: 0.520029\n",
      "Epoch: 21 | Training loss: 0.365016 | Validation loss: 0.514195\n",
      "Epoch: 22 | Training loss: 0.358761 | Validation loss: 0.508755\n",
      "Epoch: 23 | Training loss: 0.352867 | Validation loss: 0.503708\n",
      "Epoch: 24 | Training loss: 0.347303 | Validation loss: 0.498925\n",
      "Epoch: 25 | Training loss: 0.342044 | Validation loss: 0.494428\n",
      "Epoch: 26 | Training loss: 0.337080 | Validation loss: 0.490216\n",
      "Epoch: 27 | Training loss: 0.332363 | Validation loss: 0.486162\n",
      "Epoch: 28 | Training loss: 0.327900 | Validation loss: 0.482399\n",
      "Epoch: 29 | Training loss: 0.323642 | Validation loss: 0.478835\n",
      "Epoch: 30 | Training loss: 0.319590 | Validation loss: 0.475451\n",
      "Epoch: 31 | Training loss: 0.315726 | Validation loss: 0.472255\n",
      "Epoch: 32 | Training loss: 0.312040 | Validation loss: 0.469254\n",
      "Epoch: 33 | Training loss: 0.308501 | Validation loss: 0.466352\n",
      "Epoch: 34 | Training loss: 0.305133 | Validation loss: 0.463601\n",
      "Epoch: 35 | Training loss: 0.301905 | Validation loss: 0.460978\n",
      "Epoch: 36 | Training loss: 0.298801 | Validation loss: 0.458492\n",
      "Epoch: 37 | Training loss: 0.295830 | Validation loss: 0.456106\n",
      "Epoch: 38 | Training loss: 0.292975 | Validation loss: 0.453865\n",
      "Epoch: 39 | Training loss: 0.290225 | Validation loss: 0.451683\n",
      "Epoch: 40 | Training loss: 0.287581 | Validation loss: 0.449612\n",
      "Epoch: 41 | Training loss: 0.285041 | Validation loss: 0.447639\n",
      "Epoch: 42 | Training loss: 0.282583 | Validation loss: 0.445709\n",
      "Epoch: 43 | Training loss: 0.280231 | Validation loss: 0.443911\n",
      "Epoch: 44 | Training loss: 0.277946 | Validation loss: 0.442163\n",
      "Epoch: 45 | Training loss: 0.275751 | Validation loss: 0.440492\n",
      "Epoch: 46 | Training loss: 0.273623 | Validation loss: 0.438861\n",
      "Epoch: 47 | Training loss: 0.271578 | Validation loss: 0.437330\n",
      "Epoch: 48 | Training loss: 0.269584 | Validation loss: 0.435844\n",
      "Epoch: 49 | Training loss: 0.267671 | Validation loss: 0.434437\n",
      "Epoch: 50 | Training loss: 0.265814 | Validation loss: 0.433056\n",
      "Epoch: 51 | Training loss: 0.264012 | Validation loss: 0.431741\n",
      "Epoch: 52 | Training loss: 0.262272 | Validation loss: 0.430476\n",
      "Epoch: 53 | Training loss: 0.260585 | Validation loss: 0.429255\n",
      "Epoch: 54 | Training loss: 0.258946 | Validation loss: 0.428074\n",
      "Epoch: 55 | Training loss: 0.257362 | Validation loss: 0.426960\n",
      "Epoch: 56 | Training loss: 0.255824 | Validation loss: 0.425889\n",
      "Epoch: 57 | Training loss: 0.254330 | Validation loss: 0.424849\n",
      "Epoch: 58 | Training loss: 0.252879 | Validation loss: 0.423849\n",
      "Epoch: 59 | Training loss: 0.251471 | Validation loss: 0.422869\n",
      "Epoch: 60 | Training loss: 0.250099 | Validation loss: 0.421919\n",
      "Epoch: 61 | Training loss: 0.248777 | Validation loss: 0.421029\n",
      "Epoch: 62 | Training loss: 0.247482 | Validation loss: 0.420182\n",
      "Epoch: 63 | Training loss: 0.246227 | Validation loss: 0.419350\n",
      "Epoch: 64 | Training loss: 0.245010 | Validation loss: 0.418553\n",
      "Epoch: 65 | Training loss: 0.243813 | Validation loss: 0.417763\n",
      "Epoch: 66 | Training loss: 0.242664 | Validation loss: 0.417030\n",
      "Epoch: 67 | Training loss: 0.241535 | Validation loss: 0.416305\n",
      "Epoch: 68 | Training loss: 0.240439 | Validation loss: 0.415620\n",
      "Epoch: 69 | Training loss: 0.239372 | Validation loss: 0.414949\n",
      "Epoch: 70 | Training loss: 0.238335 | Validation loss: 0.414291\n",
      "Epoch: 71 | Training loss: 0.237331 | Validation loss: 0.413670\n",
      "Epoch: 72 | Training loss: 0.236340 | Validation loss: 0.413076\n",
      "Epoch: 73 | Training loss: 0.235385 | Validation loss: 0.412508\n",
      "Epoch: 74 | Training loss: 0.234450 | Validation loss: 0.411939\n",
      "Epoch: 75 | Training loss: 0.233534 | Validation loss: 0.411388\n",
      "Epoch: 76 | Training loss: 0.232652 | Validation loss: 0.410879\n",
      "Epoch: 77 | Training loss: 0.231787 | Validation loss: 0.410381\n",
      "Epoch: 78 | Training loss: 0.230941 | Validation loss: 0.409896\n",
      "Epoch: 79 | Training loss: 0.230113 | Validation loss: 0.409418\n",
      "Epoch: 80 | Training loss: 0.229310 | Validation loss: 0.408941\n",
      "Epoch: 81 | Training loss: 0.228533 | Validation loss: 0.408510\n",
      "Epoch: 82 | Training loss: 0.227769 | Validation loss: 0.408099\n",
      "Epoch: 83 | Training loss: 0.227020 | Validation loss: 0.407706\n",
      "Epoch: 84 | Training loss: 0.226296 | Validation loss: 0.407343\n",
      "Epoch: 85 | Training loss: 0.225584 | Validation loss: 0.406968\n",
      "Epoch: 86 | Training loss: 0.224891 | Validation loss: 0.406605\n",
      "Epoch: 87 | Training loss: 0.224221 | Validation loss: 0.406265\n",
      "Epoch: 88 | Training loss: 0.223560 | Validation loss: 0.405940\n",
      "Epoch: 89 | Training loss: 0.222914 | Validation loss: 0.405610\n",
      "Epoch: 90 | Training loss: 0.222283 | Validation loss: 0.405278\n",
      "Epoch: 91 | Training loss: 0.221676 | Validation loss: 0.404993\n",
      "Epoch: 92 | Training loss: 0.221079 | Validation loss: 0.404716\n",
      "Epoch: 93 | Training loss: 0.220492 | Validation loss: 0.404437\n",
      "Epoch: 94 | Training loss: 0.219923 | Validation loss: 0.404176\n",
      "Epoch: 95 | Training loss: 0.219362 | Validation loss: 0.403925\n",
      "Epoch: 96 | Training loss: 0.218816 | Validation loss: 0.403676\n",
      "Epoch: 97 | Training loss: 0.218291 | Validation loss: 0.403447\n",
      "Epoch: 98 | Training loss: 0.217771 | Validation loss: 0.403246\n",
      "Epoch: 99 | Training loss: 0.217266 | Validation loss: 0.403040\n",
      "Epoch: 100 | Training loss: 0.216772 | Validation loss: 0.402846\n",
      "Epoch: 101 | Training loss: 0.216288 | Validation loss: 0.402649\n",
      "Epoch: 102 | Training loss: 0.215812 | Validation loss: 0.402453\n",
      "Epoch: 103 | Training loss: 0.215353 | Validation loss: 0.402282\n",
      "Epoch: 104 | Training loss: 0.214904 | Validation loss: 0.402105\n",
      "Epoch: 105 | Training loss: 0.214469 | Validation loss: 0.401969\n",
      "Epoch: 106 | Training loss: 0.214036 | Validation loss: 0.401824\n",
      "Epoch: 107 | Training loss: 0.213620 | Validation loss: 0.401689\n",
      "Epoch: 108 | Training loss: 0.213209 | Validation loss: 0.401550\n",
      "Epoch: 109 | Training loss: 0.212809 | Validation loss: 0.401429\n",
      "Epoch: 110 | Training loss: 0.212417 | Validation loss: 0.401292\n",
      "Epoch: 111 | Training loss: 0.212040 | Validation loss: 0.401190\n",
      "Epoch: 112 | Training loss: 0.211668 | Validation loss: 0.401083\n",
      "Epoch: 113 | Training loss: 0.211307 | Validation loss: 0.400989\n"
     ]
    }
   ],
   "source": [
    "w_count, loss_tr_count, dev_loss_count = SGD(X_tr = X_tr_count_mul, Y_tr = train_label, \n",
    "                                             X_dev=X_dev_count_mul, \n",
    "                                             Y_dev=dev_label,\n",
    "                                             num_classes=3,\n",
    "                                             lr=0.001, \n",
    "                                             alpha=0.001, \n",
    "                                             epochs=150)"
   ]
  },
  {
   "cell_type": "markdown",
   "metadata": {},
   "source": [
    "##### Plot training and validation process and explain if your model overfit, underfit or is about right:"
   ]
  },
  {
   "cell_type": "markdown",
   "metadata": {},
   "source": [
    "Answer:\n",
    "The model is overfit, because the final loss function value of the training data is much lower than that of the validation data. The reason for this result is over-training the training set data, resulting in local optimization, and the model's generalization ability is not good, so the error rate of the verification set is higher than the training set."
   ]
  },
  {
   "cell_type": "code",
   "execution_count": 76,
   "metadata": {
    "ExecuteTime": {
     "end_time": "2020-02-15T14:31:09.903453Z",
     "start_time": "2020-02-15T14:31:09.901360Z"
    }
   },
   "outputs": [
    {
     "data": {
      "image/png": "[encoded data removed]",
      "text/plain": [
       "<Figure size 432x288 with 1 Axes>"
      ]
     },
     "metadata": {
      "needs_background": "light"
     },
     "output_type": "display_data"
    }
   ],
   "source": [
    "x = np.linspace(0,len(loss_tr_count),len(loss_tr_count))\n",
    "y1, y2 = loss_tr_count, dev_loss_count\n",
    " \n",
    "plt.plot(x, y1,label='Training loss')\n",
    "plt.plot(x, y2, label='Validation loss')\n",
    " \n",
    "plt.title('Training Monitoring')\n",
    "plt.xlabel('Epochs')\n",
    "plt.ylabel('Loss')\n",
    "plt.legend() \n",
    "plt.show()"
   ]
  },
  {
   "cell_type": "markdown",
   "metadata": {},
   "source": [
    "##### Compute accuracy, precision, recall and F1-scores:"
   ]
  },
  {
   "cell_type": "code",
   "execution_count": 77,
   "metadata": {},
   "outputs": [
    {
     "name": "stdout",
     "output_type": "stream",
     "text": [
      "Accuracy: 0.8644444444444445\n",
      "Precision: 0.819078947368421\n",
      "Recall: 0.83\n",
      "F1-Score: 0.8245033112582781\n"
     ]
    }
   ],
   "source": [
    "p_class_count = predict_class(X = X_test_count_mul, weights = w_count)\n",
    "Y_te = test_label\n",
    "preds_te_count = p_class_count\n",
    "\n",
    "print('Accuracy:', accuracy_score(Y_te,preds_te_count))\n",
    "print('Precision:', precision_score(Y_te,preds_te_count))\n",
    "print('Recall:', recall_score(Y_te,preds_te_count))\n",
    "print('F1-Score:', f1_score(Y_te,preds_te_count))"
   ]
  },
  {
   "cell_type": "markdown",
   "metadata": {},
   "source": [
    "##### Print the top-10 words for each class respectively."
   ]
  },
  {
   "cell_type": "code",
   "execution_count": 78,
   "metadata": {
    "ExecuteTime": {
     "end_time": "2020-02-15T14:32:26.224693Z",
     "start_time": "2020-02-15T14:32:26.221886Z"
    }
   },
   "outputs": [
    {
     "name": "stdout",
     "output_type": "stream",
     "text": [
      "The top 10 words for class 1 are ['afp', ('athens', 'greece'), 'najaf', 'murder', 'leader', 'monday', 'president', 'minister', 'said', 'troops'] respectively.\n",
      "The top 10 words for class 2 are ['athens', 'ap', 'team', ('athens', 'reuters'), 'season', 'olympic', 'game', 'coach', 'players', 'win'] respectively.\n",
      "The top 10 words for class 3 are ['company', 'business', 'inc', 'corp', 'market', 'oil', 'million', 'billion', 'based', 'bank'] respectively.\n"
     ]
    }
   ],
   "source": [
    "for i in range(w_count.shape[0]):\n",
    "    \n",
    "    dic_count = {}\n",
    "    for j,weight in enumerate(w_count[i]):\n",
    "        dic_count[vocab_mul[j]] = weight\n",
    "\n",
    "    #order by weights\n",
    "    dic_count_class= dict(sorted(dic_count.items(), key=lambda x:x[1], reverse=True))\n",
    "    # select top 10 words\n",
    "    dic_count_class = {k: dic_count_class[k] for k in list(dic_count_class.keys())[:10]}\n",
    "\n",
    "    print(\"The top 10 words for class %d are %s respectively.\"% (i+1, list(dic_count_class.keys())))\n",
    "    "
   ]
  },
  {
   "cell_type": "markdown",
   "metadata": {},
   "source": [
    "##### If we were to apply the classifier we've learned into a different domain, do you think these features would generalise well? Can you propose what features the classifier could pick up as important in the new domain?"
   ]
  },
  {
   "cell_type": "markdown",
   "metadata": {},
   "source": [
    "Answer:\n",
    "\n",
    "We could not use the classifier into a different domain, because the extracted feature words are basically nouns, these features are only available in a certain field. For example, the words 'murder', 'leader', etc. only apply to International issues, not to the field of Sports. \n",
    "\n",
    "So I think these features would not generalise well. And maybe for some adjective or adverb features, the classifier could pick up as important in the new domain."
   ]
  },
  {
   "cell_type": "markdown",
   "metadata": {},
   "source": [
    "### Discuss how did you choose model hyperparameters (e.g. learning rate and regularisation strength)? "
   ]
  },
  {
   "cell_type": "code",
   "execution_count": 80,
   "metadata": {},
   "outputs": [
    {
     "name": "stdout",
     "output_type": "stream",
     "text": [
      "When lr = 0.010000, alpha = 0.100000;  F1-Score: 0.8225538971807628\n",
      "When lr = 0.010000, alpha = 0.010000;  F1-Score: 0.83\n",
      "When lr = 0.010000, alpha = 0.001000;  F1-Score: 0.8250825082508251\n",
      "When lr = 0.001000, alpha = 0.100000;  F1-Score: 0.8047138047138047\n",
      "When lr = 0.001000, alpha = 0.010000;  F1-Score: 0.8305647840531561\n",
      "When lr = 0.001000, alpha = 0.001000;  F1-Score: 0.8239202657807309\n",
      "When lr = 0.000100, alpha = 0.100000;  F1-Score: 0.8109028960817717\n",
      "When lr = 0.000100, alpha = 0.010000;  F1-Score: 0.8113522537562604\n",
      "When lr = 0.000100, alpha = 0.001000;  F1-Score: 0.8113522537562604\n"
     ]
    }
   ],
   "source": [
    "# choose model hyperparameters: learning rate and regularisation strength\n",
    "lr_hyper = [0.01,0.001,0.0001]\n",
    "alpha_hyper = [0.1,0.01,0.001]\n",
    "\n",
    "for lr in range(len(lr_hyper)):\n",
    "    for alpha in range(len(alpha_hyper)):\n",
    "        w_count, loss_tr_count, dev_loss_count = SGD(X_tr = X_tr_count_mul, Y_tr = train_label, \n",
    "                                             X_dev=X_dev_count_mul, \n",
    "                                             Y_dev=dev_label, \n",
    "                                             lr=lr_hyper[lr],\n",
    "                                             alpha=alpha_hyper[alpha], \n",
    "                                             epochs=100)\n",
    "        preds = predict_class(X = X_test_count_mul, weights = w_count)\n",
    "        # If test this, we need change `SGD` to comment out that print(add # in front of print, do not print loss), \n",
    "        #then we can just see the results of F1-Score for several hyperparameters.\n",
    "        print('When lr = %f, alpha = %f; '%(lr_hyper[lr],alpha_hyper[alpha]), 'F1-Score:', f1_score(Y_te = test_label, preds_te_count = preds))\n",
    "        \n"
   ]
  },
  {
   "cell_type": "markdown",
   "metadata": {},
   "source": [
    "From the above results, we can see that when lr = 0.001 and alpha = 0.01, the F1-Score value reaches the maximum, 0.83. As lr or alpha continues to increase, the F1-Score value becomes smaller. \n",
    "\n",
    "In general, the learning rate(lr) has a greater impact on model training, and regularisation strength(alpha) also has a certain degree of effect."
   ]
  },
  {
   "cell_type": "markdown",
   "metadata": {},
   "source": [
    "### Now evaluate BOW-tfidf..."
   ]
  },
  {
   "cell_type": "code",
   "execution_count": 82,
   "metadata": {
    "scrolled": true
   },
   "outputs": [
    {
     "name": "stdout",
     "output_type": "stream",
     "text": [
      "Epoch: 0 | Training loss: 0.958627 | Validation loss: 0.956724\n",
      "Epoch: 1 | Training loss: 0.760124 | Validation loss: 0.867729\n",
      "Epoch: 2 | Training loss: 0.646550 | Validation loss: 0.804482\n",
      "Epoch: 3 | Training loss: 0.571555 | Validation loss: 0.756887\n",
      "Epoch: 4 | Training loss: 0.517588 | Validation loss: 0.719420\n",
      "Epoch: 5 | Training loss: 0.476471 | Validation loss: 0.689058\n",
      "Epoch: 6 | Training loss: 0.443746 | Validation loss: 0.663801\n",
      "Epoch: 7 | Training loss: 0.416990 | Validation loss: 0.642392\n",
      "Epoch: 8 | Training loss: 0.394506 | Validation loss: 0.623917\n",
      "Epoch: 9 | Training loss: 0.375315 | Validation loss: 0.607820\n",
      "Epoch: 10 | Training loss: 0.358660 | Validation loss: 0.593657\n",
      "Epoch: 11 | Training loss: 0.344057 | Validation loss: 0.581029\n",
      "Epoch: 12 | Training loss: 0.331089 | Validation loss: 0.569718\n",
      "Epoch: 13 | Training loss: 0.319513 | Validation loss: 0.559480\n",
      "Epoch: 14 | Training loss: 0.309059 | Validation loss: 0.550186\n",
      "Epoch: 15 | Training loss: 0.299596 | Validation loss: 0.541733\n",
      "Epoch: 16 | Training loss: 0.290929 | Validation loss: 0.534015\n",
      "Epoch: 17 | Training loss: 0.283007 | Validation loss: 0.526798\n",
      "Epoch: 18 | Training loss: 0.275710 | Validation loss: 0.520115\n",
      "Epoch: 19 | Training loss: 0.268981 | Validation loss: 0.513981\n",
      "Epoch: 20 | Training loss: 0.262703 | Validation loss: 0.508210\n",
      "Epoch: 21 | Training loss: 0.256895 | Validation loss: 0.502851\n",
      "Epoch: 22 | Training loss: 0.251486 | Validation loss: 0.497846\n",
      "Epoch: 23 | Training loss: 0.246400 | Validation loss: 0.493205\n",
      "Epoch: 24 | Training loss: 0.241633 | Validation loss: 0.488788\n",
      "Epoch: 25 | Training loss: 0.237163 | Validation loss: 0.484647\n",
      "Epoch: 26 | Training loss: 0.232954 | Validation loss: 0.480740\n",
      "Epoch: 27 | Training loss: 0.228984 | Validation loss: 0.476994\n",
      "Epoch: 28 | Training loss: 0.225231 | Validation loss: 0.473497\n",
      "Epoch: 29 | Training loss: 0.221680 | Validation loss: 0.470181\n",
      "Epoch: 30 | Training loss: 0.218327 | Validation loss: 0.467017\n",
      "Epoch: 31 | Training loss: 0.215128 | Validation loss: 0.464032\n",
      "Epoch: 32 | Training loss: 0.212104 | Validation loss: 0.461187\n",
      "Epoch: 33 | Training loss: 0.209196 | Validation loss: 0.458470\n",
      "Epoch: 34 | Training loss: 0.206452 | Validation loss: 0.455844\n",
      "Epoch: 35 | Training loss: 0.203845 | Validation loss: 0.453379\n",
      "Epoch: 36 | Training loss: 0.201331 | Validation loss: 0.451032\n",
      "Epoch: 37 | Training loss: 0.198951 | Validation loss: 0.448773\n",
      "Epoch: 38 | Training loss: 0.196664 | Validation loss: 0.446625\n",
      "Epoch: 39 | Training loss: 0.194468 | Validation loss: 0.444537\n",
      "Epoch: 40 | Training loss: 0.192373 | Validation loss: 0.442560\n",
      "Epoch: 41 | Training loss: 0.190368 | Validation loss: 0.440670\n",
      "Epoch: 42 | Training loss: 0.188425 | Validation loss: 0.438841\n",
      "Epoch: 43 | Training loss: 0.186594 | Validation loss: 0.437086\n",
      "Epoch: 44 | Training loss: 0.184808 | Validation loss: 0.435390\n",
      "Epoch: 45 | Training loss: 0.183107 | Validation loss: 0.433769\n",
      "Epoch: 46 | Training loss: 0.181463 | Validation loss: 0.432201\n",
      "Epoch: 47 | Training loss: 0.179893 | Validation loss: 0.430732\n",
      "Epoch: 48 | Training loss: 0.178368 | Validation loss: 0.429291\n",
      "Epoch: 49 | Training loss: 0.176916 | Validation loss: 0.427901\n",
      "Epoch: 50 | Training loss: 0.175506 | Validation loss: 0.426562\n",
      "Epoch: 51 | Training loss: 0.174147 | Validation loss: 0.425269\n",
      "Epoch: 52 | Training loss: 0.172834 | Validation loss: 0.424020\n",
      "Epoch: 53 | Training loss: 0.171577 | Validation loss: 0.422816\n",
      "Epoch: 54 | Training loss: 0.170357 | Validation loss: 0.421653\n",
      "Epoch: 55 | Training loss: 0.169178 | Validation loss: 0.420559\n",
      "Epoch: 56 | Training loss: 0.168052 | Validation loss: 0.419494\n",
      "Epoch: 57 | Training loss: 0.166950 | Validation loss: 0.418459\n",
      "Epoch: 58 | Training loss: 0.165888 | Validation loss: 0.417465\n",
      "Epoch: 59 | Training loss: 0.164870 | Validation loss: 0.416478\n",
      "Epoch: 60 | Training loss: 0.163872 | Validation loss: 0.415513\n",
      "Epoch: 61 | Training loss: 0.162931 | Validation loss: 0.414610\n",
      "Epoch: 62 | Training loss: 0.161992 | Validation loss: 0.413742\n",
      "Epoch: 63 | Training loss: 0.161099 | Validation loss: 0.412893\n",
      "Epoch: 64 | Training loss: 0.160240 | Validation loss: 0.412065\n",
      "Epoch: 65 | Training loss: 0.159393 | Validation loss: 0.411263\n",
      "Epoch: 66 | Training loss: 0.158589 | Validation loss: 0.410492\n",
      "Epoch: 67 | Training loss: 0.157792 | Validation loss: 0.409755\n",
      "Epoch: 68 | Training loss: 0.157038 | Validation loss: 0.409035\n",
      "Epoch: 69 | Training loss: 0.156301 | Validation loss: 0.408327\n",
      "Epoch: 70 | Training loss: 0.155587 | Validation loss: 0.407652\n",
      "Epoch: 71 | Training loss: 0.154895 | Validation loss: 0.406995\n",
      "Epoch: 72 | Training loss: 0.154224 | Validation loss: 0.406363\n",
      "Epoch: 73 | Training loss: 0.153575 | Validation loss: 0.405760\n",
      "Epoch: 74 | Training loss: 0.152940 | Validation loss: 0.405146\n",
      "Epoch: 75 | Training loss: 0.152325 | Validation loss: 0.404555\n",
      "Epoch: 76 | Training loss: 0.151745 | Validation loss: 0.404008\n",
      "Epoch: 77 | Training loss: 0.151171 | Validation loss: 0.403474\n",
      "Epoch: 78 | Training loss: 0.150615 | Validation loss: 0.402953\n",
      "Epoch: 79 | Training loss: 0.150072 | Validation loss: 0.402431\n",
      "Epoch: 80 | Training loss: 0.149545 | Validation loss: 0.401919\n",
      "Epoch: 81 | Training loss: 0.149043 | Validation loss: 0.401436\n",
      "Epoch: 82 | Training loss: 0.148552 | Validation loss: 0.400981\n",
      "Epoch: 83 | Training loss: 0.148069 | Validation loss: 0.400528\n",
      "Epoch: 84 | Training loss: 0.147614 | Validation loss: 0.400112\n",
      "Epoch: 85 | Training loss: 0.147161 | Validation loss: 0.399690\n",
      "Epoch: 86 | Training loss: 0.146722 | Validation loss: 0.399278\n",
      "Epoch: 87 | Training loss: 0.146310 | Validation loss: 0.398891\n",
      "Epoch: 88 | Training loss: 0.145892 | Validation loss: 0.398507\n",
      "Epoch: 89 | Training loss: 0.145496 | Validation loss: 0.398128\n",
      "Epoch: 90 | Training loss: 0.145110 | Validation loss: 0.397750\n",
      "Epoch: 91 | Training loss: 0.144739 | Validation loss: 0.397400\n",
      "Epoch: 92 | Training loss: 0.144376 | Validation loss: 0.397061\n",
      "Epoch: 93 | Training loss: 0.144023 | Validation loss: 0.396725\n",
      "Epoch: 94 | Training loss: 0.143680 | Validation loss: 0.396398\n",
      "Epoch: 95 | Training loss: 0.143346 | Validation loss: 0.396093\n",
      "Epoch: 96 | Training loss: 0.143021 | Validation loss: 0.395774\n",
      "Epoch: 97 | Training loss: 0.142721 | Validation loss: 0.395477\n",
      "Epoch: 98 | Training loss: 0.142419 | Validation loss: 0.395201\n",
      "Epoch: 99 | Training loss: 0.142128 | Validation loss: 0.394931\n"
     ]
    }
   ],
   "source": [
    "w_tfidf, loss_tr_tfidf, dev_loss_tfidf = SGD(X_tr = X_tr_tfidf_mul, Y_tr = train_label, \n",
    "                                             X_dev=X_dev_tfidf_mul, \n",
    "                                             Y_dev=dev_label,\n",
    "                                             num_classes=3,\n",
    "                                             lr=0.0001, \n",
    "                                             alpha=0.01, \n",
    "                                             epochs=100)"
   ]
  },
  {
   "cell_type": "markdown",
   "metadata": {},
   "source": [
    "##### Plot training and validation process and explain if your model overfit, underfit or is about right:"
   ]
  },
  {
   "cell_type": "markdown",
   "metadata": {},
   "source": [
    "The model is overfit, because the final loss function value of the training data is much lower than that of the validation data. The reason for this result is over-training the training set data, resulting in local optimization, and the model's generalization ability is not good, so the error rate of the verification set is higher than the training set."
   ]
  },
  {
   "cell_type": "code",
   "execution_count": 83,
   "metadata": {},
   "outputs": [
    {
     "data": {
      "image/png": "[encoded data removed]",
      "text/plain": [
       "<Figure size 432x288 with 1 Axes>"
      ]
     },
     "metadata": {
      "needs_background": "light"
     },
     "output_type": "display_data"
    }
   ],
   "source": [
    "x = np.linspace(0,len(loss_tr_tfidf),len(loss_tr_tfidf))\n",
    "y1, y2 = loss_tr_tfidf, dev_loss_tfidf\n",
    " \n",
    "plt.plot(x, y1,label='Training loss')\n",
    "plt.plot(x, y2, label='Validation loss')\n",
    " \n",
    "plt.title('Training Monitoring')\n",
    "plt.xlabel('Epochs')\n",
    "plt.ylabel('Loss')\n",
    "plt.legend() \n",
    "plt.show()"
   ]
  },
  {
   "cell_type": "markdown",
   "metadata": {},
   "source": [
    "##### Compute accuracy, precision, recall and F1-scores:"
   ]
  },
  {
   "cell_type": "code",
   "execution_count": 84,
   "metadata": {},
   "outputs": [
    {
     "name": "stdout",
     "output_type": "stream",
     "text": [
      "Accuracy: 0.8822222222222222\n",
      "Precision: 0.8471760797342193\n",
      "Recall: 0.85\n",
      "F1-Score: 0.848585690515807\n"
     ]
    }
   ],
   "source": [
    "p_class_tfidf = predict_class(X = X_test_tfidf_mul, weights = w_tfidf)\n",
    "Y_te = test_label\n",
    "preds_te_tfidf = p_class_tfidf\n",
    "\n",
    "print('Accuracy:', accuracy_score(Y_te,preds_te_tfidf))\n",
    "print('Precision:', precision_score(Y_te,preds_te_tfidf))\n",
    "print('Recall:', recall_score(Y_te,preds_te_tfidf))\n",
    "print('F1-Score:', f1_score(Y_te,preds_te_tfidf))"
   ]
  },
  {
   "cell_type": "markdown",
   "metadata": {},
   "source": [
    "##### Print the top-10 words for each class respectively."
   ]
  },
  {
   "cell_type": "code",
   "execution_count": 85,
   "metadata": {},
   "outputs": [
    {
     "name": "stdout",
     "output_type": "stream",
     "text": [
      "The top 10 words for class 1 are ['afp', ('athens', 'greece'), 'said', 'murder', 'leader', 'beijing', 'najaf', 'president', 'monday', 'india'] respectively.\n",
      "The top 10 words for class 2 are ['athens', 'ap', 'team', 'olympic', ('athens', 'reuters'), 'season', 'game', 'games', 'coach', 'players'] respectively.\n",
      "The top 10 words for class 3 are ['company', 'business', 'market', 'oil', 'inc', 'corp', 'based', 'google', 'billion', 'million'] respectively.\n"
     ]
    }
   ],
   "source": [
    "for i in range(w_tfidf.shape[0]):\n",
    "    \n",
    "    dic_tfidf = {}\n",
    "    for j,weight in enumerate(w_tfidf[i]):\n",
    "        dic_tfidf[vocab_mul[j]] = weight\n",
    "\n",
    "    #order by weights\n",
    "    dic_tfidf_class= dict(sorted(dic_tfidf.items(), key=lambda x:x[1], reverse=True))\n",
    "    # select top 10 words\n",
    "    dic_tfidf_class = {k: dic_tfidf_class[k] for k in list(dic_tfidf_class.keys())[:10]}\n",
    "\n",
    "    print(\"The top 10 words for class %d are %s respectively.\"% (i+1, list(dic_tfidf_class.keys())))\n",
    "    "
   ]
  },
  {
   "cell_type": "markdown",
   "metadata": {},
   "source": [
    "##### If we were to apply the classifier we've learned into a different domain, do you think these features would generalise well? Can you propose what features the classifier could pick up as important in the new domain?"
   ]
  },
  {
   "cell_type": "markdown",
   "metadata": {},
   "source": [
    "Answer:\n",
    "\n",
    "We could not use the classifier into a different domain, because the extracted feature words are basically nouns, these features are only available in a certain field. For example, the words 'murder', 'leader', etc. only apply to International issues, not to the field of Sports.\n",
    "\n",
    "So I think these features would not generalise well. And maybe for some adjective or adverb features, the classifier could pick up as important in the new domain."
   ]
  },
  {
   "cell_type": "markdown",
   "metadata": {},
   "source": [
    "### Discuss how did you choose hyperparameters (e.g. learning rate and regularisation strength)?"
   ]
  },
  {
   "cell_type": "code",
   "execution_count": 87,
   "metadata": {},
   "outputs": [
    {
     "name": "stdout",
     "output_type": "stream",
     "text": [
      "When lr = 0.010000, alpha = 0.100000;  F1-Score: 0.8189233278955953\n",
      "When lr = 0.010000, alpha = 0.010000;  F1-Score: 0.8189233278955953\n",
      "When lr = 0.010000, alpha = 0.001000;  F1-Score: 0.8110749185667753\n",
      "When lr = 0.001000, alpha = 0.100000;  F1-Score: 0.8504983388704319\n",
      "When lr = 0.001000, alpha = 0.010000;  F1-Score: 0.8452579034941764\n",
      "When lr = 0.001000, alpha = 0.001000;  F1-Score: 0.8333333333333334\n",
      "When lr = 0.000100, alpha = 0.100000;  F1-Score: 0.8504983388704319\n",
      "When lr = 0.000100, alpha = 0.010000;  F1-Score: 0.848585690515807\n",
      "When lr = 0.000100, alpha = 0.001000;  F1-Score: 0.848585690515807\n"
     ]
    }
   ],
   "source": [
    "# choose model hyperparameters: learning rate and regularisation strength\n",
    "lr_hyper = [0.01,0.001,0.0001]\n",
    "alpha_hyper = [0.1,0.01,0.001]\n",
    "\n",
    "for lr in range(len(lr_hyper)):\n",
    "    for alpha in range(len(alpha_hyper)):\n",
    "        w_tfidf, loss_tr_tfidf, dev_loss_tfidf = SGD(X_tr = X_tr_tfidf_mul, Y_tr = train_label, \n",
    "                                             X_dev=X_dev_tfidf_mul, \n",
    "                                             Y_dev=dev_label, \n",
    "                                             lr=lr_hyper[lr],\n",
    "                                             alpha=alpha_hyper[alpha], \n",
    "                                             epochs=100)\n",
    "        preds = predict_class(X = X_test_tfidf_mul, weights = w_tfidf)\n",
    "        # If test this, we need change `SGD` to comment out that print(add # in front of print, do not print loss), \n",
    "        #then we can just see the results of F1-Score for several hyperparameters.\n",
    "        print('When lr = %f, alpha = %f; '%(lr_hyper[lr],alpha_hyper[alpha]), 'F1-Score:', f1_score(Y_te = test_label, preds_te_count = preds))\n",
    "        \n"
   ]
  },
  {
   "cell_type": "markdown",
   "metadata": {},
   "source": [
    "From the above results, we can see that when lr = 0.001(or 0.0001) and alpha = 0.1, the F1-Score value reaches the maximum, 0.85. As alpha continues to increase, the F1-Score value becomes smaller. \n",
    "\n",
    "In general, the learning rate(lr) has a greater impact on model training, and regularisation strength(alpha) also has a certain degree of effect.\n",
    "\n",
    "When training the model, if the learning rate is reduced, the gradient descent rate will be slower and the model's convergence rate will also be slower, so in general, the number of training epochs required should be increased to achieve the purpose of sufficient model convergence.\n",
    "\n",
    "Regularization can always improve generalization and help prevent overfitting.\n"
   ]
  },
  {
   "cell_type": "markdown",
   "metadata": {
    "ExecuteTime": {
     "end_time": "2020-02-15T14:16:42.567569Z",
     "start_time": "2020-02-15T14:16:42.562560Z"
    }
   },
   "source": [
    "## Full Results\n",
    "\n",
    "Add here your results:\n",
    "\n",
    "| LR | Precision  | Recall  | F1-Score  |\n",
    "|:-:|:-:|:-:|:-:|\n",
    "| BOW-count  | 0.819 | 0.830 | 0.824 |\n",
    "| BOW-tfidf  | 0.847 | 0.850 | 0.848 |\n"
   ]
  }
 ],
 "metadata": {
  "kernelspec": {
   "display_name": "Python 3",
   "language": "python",
   "name": "python3"
  },
  "language_info": {
   "codemirror_mode": {
    "name": "ipython",
    "version": 3
   },
   "file_extension": ".py",
   "mimetype": "text/x-python",
   "name": "python",
   "nbconvert_exporter": "python",
   "pygments_lexer": "ipython3",
   "version": "3.6.9"
  }
 },
 "nbformat": 4,
 "nbformat_minor": 2
}
